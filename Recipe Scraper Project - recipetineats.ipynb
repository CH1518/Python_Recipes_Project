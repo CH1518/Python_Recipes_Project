{
 "cells": [
  {
   "cell_type": "markdown",
   "id": "cdf4a95a",
   "metadata": {},
   "source": [
    "# Recipe Scraper Project\n",
    "This portion of the project will focus on scraping recipe details from the URL pages compiled from the URL Scraper Project. This code will bring in:\n",
    "* Recipe Author\n",
    "* Recipe Description\n",
    "* Recipe Ingredients\n",
    "* Recipe Instructions\n",
    "* Recipe Tags\n",
    "* Recipe Ready In, Prep Time, Cook Time, Yield information"
   ]
  },
  {
   "cell_type": "markdown",
   "id": "8a960e47",
   "metadata": {},
   "source": [
    "Importing libraries and database"
   ]
  },
  {
   "cell_type": "code",
   "execution_count": 1,
   "id": "60108dde",
   "metadata": {},
   "outputs": [],
   "source": [
    "import requests\n",
    "from bs4 import BeautifulSoup as bs\n",
    "headers = {\"User-Agent\" : \"Mozilla/5.0 (Windows NT 10.0; Win64; x64) AppleWebKit/537.36 (KHTML, like Gecko) Chrome/124.0.0.0 Safari/537.36\"}"
   ]
  },
  {
   "cell_type": "code",
   "execution_count": 2,
   "id": "cab7335a",
   "metadata": {},
   "outputs": [
    {
     "name": "stdout",
     "output_type": "stream",
     "text": [
      "2024-05-15 14:18:41,588 INFO sqlalchemy.engine.Engine select version()\n",
      "2024-05-15 14:18:41,589 INFO sqlalchemy.engine.Engine [raw sql] {}\n",
      "2024-05-15 14:18:41,591 INFO sqlalchemy.engine.Engine select current_schema()\n",
      "2024-05-15 14:18:41,591 INFO sqlalchemy.engine.Engine [raw sql] {}\n",
      "2024-05-15 14:18:41,592 INFO sqlalchemy.engine.Engine show standard_conforming_strings\n",
      "2024-05-15 14:18:41,593 INFO sqlalchemy.engine.Engine [raw sql] {}\n",
      "2024-05-15 14:18:41,594 INFO sqlalchemy.engine.Engine BEGIN (implicit)\n",
      "2024-05-15 14:18:41,595 INFO sqlalchemy.engine.Engine select relname from pg_class c join pg_namespace n on n.oid=c.relnamespace where pg_catalog.pg_table_is_visible(c.oid) and relname=%(name)s\n",
      "2024-05-15 14:18:41,595 INFO sqlalchemy.engine.Engine [generated in 0.00030s] {'name': 'url'}\n",
      "2024-05-15 14:18:41,597 INFO sqlalchemy.engine.Engine select relname from pg_class c join pg_namespace n on n.oid=c.relnamespace where pg_catalog.pg_table_is_visible(c.oid) and relname=%(name)s\n",
      "2024-05-15 14:18:41,597 INFO sqlalchemy.engine.Engine [cached since 0.002664s ago] {'name': 'recipe'}\n",
      "2024-05-15 14:18:41,598 INFO sqlalchemy.engine.Engine COMMIT\n"
     ]
    }
   ],
   "source": [
    "import db"
   ]
  },
  {
   "cell_type": "code",
   "execution_count": 3,
   "id": "84e2a7b8",
   "metadata": {},
   "outputs": [],
   "source": [
    "import random"
   ]
  },
  {
   "cell_type": "code",
   "execution_count": 39,
   "id": "8cfa6d24",
   "metadata": {},
   "outputs": [],
   "source": [
    "base_url = \"https://www.recipetineats.com/\""
   ]
  },
  {
   "cell_type": "markdown",
   "id": "c9602fb3",
   "metadata": {},
   "source": [
    "Bringing in URLs that were imported from URL Scraper Project"
   ]
  },
  {
   "cell_type": "code",
   "execution_count": 5,
   "id": "dc924840",
   "metadata": {},
   "outputs": [
    {
     "name": "stdout",
     "output_type": "stream",
     "text": [
      "2024-05-15 14:18:44,617 INFO sqlalchemy.engine.Engine BEGIN (implicit)\n",
      "2024-05-15 14:18:44,619 INFO sqlalchemy.engine.Engine SELECT url.id AS url_id, url.url AS url_url, url.recipe_name AS url_recipe_name, url.image AS url_image, url.skip AS url_skip \n",
      "FROM url\n",
      "2024-05-15 14:18:44,620 INFO sqlalchemy.engine.Engine [generated in 0.00073s] {}\n"
     ]
    }
   ],
   "source": [
    "sample_urls = random.sample([row.url for row in db.session.query(db.URL).all()],40)"
   ]
  },
  {
   "cell_type": "code",
   "execution_count": 11,
   "id": "e37d71f3",
   "metadata": {},
   "outputs": [
    {
     "data": {
      "text/plain": [
       "'https://www.recipetineats.com/muesli-bars-granola-bars/'"
      ]
     },
     "execution_count": 11,
     "metadata": {},
     "output_type": "execute_result"
    }
   ],
   "source": [
    "first = sample_urls[3]\n",
    "first"
   ]
  },
  {
   "cell_type": "code",
   "execution_count": 12,
   "id": "2b7b97f5",
   "metadata": {},
   "outputs": [],
   "source": [
    "def make_soup(url):\n",
    "    return bs(requests.get(url, headers = headers).text, 'html.parser')"
   ]
  },
  {
   "cell_type": "code",
   "execution_count": 13,
   "id": "f19f3f93",
   "metadata": {},
   "outputs": [],
   "source": [
    "soup = make_soup(first)"
   ]
  },
  {
   "cell_type": "markdown",
   "id": "c2d976e9",
   "metadata": {},
   "source": [
    "Finding and bringing in the Author information"
   ]
  },
  {
   "cell_type": "code",
   "execution_count": 14,
   "id": "f677876b",
   "metadata": {},
   "outputs": [
    {
     "data": {
      "text/plain": [
       "'Nagi'"
      ]
     },
     "execution_count": 14,
     "metadata": {},
     "output_type": "execute_result"
    }
   ],
   "source": [
    "###Author\n",
    "soup.find('span', 'entry-author-name').text"
   ]
  },
  {
   "cell_type": "markdown",
   "id": "083262e2",
   "metadata": {},
   "source": [
    "Finding and bringing in the Description information"
   ]
  },
  {
   "cell_type": "code",
   "execution_count": 15,
   "id": "95dcc7b8",
   "metadata": {
    "scrolled": true
   },
   "outputs": [
    {
     "data": {
      "text/plain": [
       "'Ultra chewy, homemade muesli bars that are cheaper, tastier and much healthier than store-bought. Tastes like a chewy caramel studded with nuts and fruit! Excellent way to clear out random leftover nuts and dried fruit. Want crunchy muesli bars? Head here!'"
      ]
     },
     "execution_count": 15,
     "metadata": {},
     "output_type": "execute_result"
    }
   ],
   "source": [
    "###Description\n",
    "soup.find('div', 'entry-content').find('p').text"
   ]
  },
  {
   "cell_type": "code",
   "execution_count": 16,
   "id": "099268f3",
   "metadata": {
    "scrolled": true
   },
   "outputs": [
    {
     "name": "stdout",
     "output_type": "stream",
     "text": [
      "https://www.recipetineats.com/muesli-bars-granola-bars/\n",
      "Nagi\n",
      "Ultra chewy, homemade muesli bars that are cheaper, tastier and much healthier than store-bought. Tastes like a chewy caramel studded with nuts and fruit! Excellent way to clear out random leftover nuts and dried fruit. Want crunchy muesli bars? Head here!\n",
      "https://www.recipetineats.com/vegetable-curry/\n",
      "Nagi\n",
      "A mixed Vegetable Curry that packs a flavour punch, is loaded with veggies and made with common spices that you might even already have in your pantry! Based on a Caribbean curry, this tastes very similar to Indian curries. Make this as spicy as you want – or not!\n",
      "https://www.recipetineats.com/italian-orzo-salad-risoni/\n",
      "Nagi\n",
      "Risoni /orzo salad, filled with an unapologetically generous amount of your new favourite garnish – crispy salami bits! There’s a good stack of bright fresh vegetables in here too, all tossed up in a tasty Italian Dressing. A new big, bold, statement pasta salad to fall in love with!\n",
      "https://www.recipetineats.com/10-classic-chinese-dishes-1-amazing-sauce/\n",
      "Nagi\n",
      "10 popular chinese stir fry recipes using one AMAZING homemade All Purpose Stir Fry Sauce. All on the table in less than 15 minutes!\n",
      "https://www.recipetineats.com/rocky-road-recipe/\n",
      "Nagi\n",
      "I love a good Rocky Road. I love the heftiness and endless versatility. Though, unsurprisingly, I have views on what makes a good one! Ratios matter. So here’s my Rocky Road recipe. It’s easy. And it’s oh-so-good.\n",
      "https://www.recipetineats.com/golden-gaytime-popcorn-copycat/\n",
      "Nagi\n",
      "Here’s a copycat recipe for Australia’s (current) favourite confectionary – Golden Gaytime Popcorn! Caramel popcorn drizzled with chocolate and sprinkled with biscuits crumbs, it’s ridiculously addictive but rather expensive. Save a fortune by making it yourself!\n",
      "https://www.recipetineats.com/christmas-trifle/\n",
      "Nagi\n",
      "This trifle will look smashing on your Christmas table!!! Layers of custard and jelly, studded with cake and piled high with cream and fruit, it looks stunning in a trifle dish but otherwise just use a glass bowl!\n"
     ]
    },
    {
     "ename": "KeyboardInterrupt",
     "evalue": "",
     "output_type": "error",
     "traceback": [
      "\u001b[1;31m---------------------------------------------------------------------------\u001b[0m",
      "\u001b[1;31mKeyboardInterrupt\u001b[0m                         Traceback (most recent call last)",
      "\u001b[1;32m<ipython-input-16-ee666c6dfbbe>\u001b[0m in \u001b[0;36m<module>\u001b[1;34m\u001b[0m\n\u001b[0;32m      1\u001b[0m \u001b[1;32mfor\u001b[0m \u001b[0murl\u001b[0m \u001b[1;32min\u001b[0m \u001b[0msample_urls\u001b[0m\u001b[1;33m:\u001b[0m\u001b[1;33m\u001b[0m\u001b[1;33m\u001b[0m\u001b[0m\n\u001b[0;32m      2\u001b[0m     \u001b[1;32mif\u001b[0m \u001b[0murl\u001b[0m\u001b[1;33m.\u001b[0m\u001b[0mstartswith\u001b[0m\u001b[1;33m(\u001b[0m\u001b[0mbase_url\u001b[0m\u001b[1;33m)\u001b[0m\u001b[1;33m:\u001b[0m\u001b[1;33m\u001b[0m\u001b[1;33m\u001b[0m\u001b[0m\n\u001b[1;32m----> 3\u001b[1;33m         \u001b[0msoup\u001b[0m \u001b[1;33m=\u001b[0m \u001b[0mmake_soup\u001b[0m\u001b[1;33m(\u001b[0m\u001b[0murl\u001b[0m\u001b[1;33m)\u001b[0m\u001b[1;33m\u001b[0m\u001b[1;33m\u001b[0m\u001b[0m\n\u001b[0m\u001b[0;32m      4\u001b[0m         \u001b[0mprint\u001b[0m\u001b[1;33m(\u001b[0m\u001b[0murl\u001b[0m\u001b[1;33m)\u001b[0m\u001b[1;33m\u001b[0m\u001b[1;33m\u001b[0m\u001b[0m\n\u001b[0;32m      5\u001b[0m         \u001b[0mprint\u001b[0m\u001b[1;33m(\u001b[0m\u001b[0msoup\u001b[0m\u001b[1;33m.\u001b[0m\u001b[0mfind\u001b[0m\u001b[1;33m(\u001b[0m\u001b[1;34m'span'\u001b[0m\u001b[1;33m,\u001b[0m \u001b[1;34m'entry-author-name'\u001b[0m\u001b[1;33m)\u001b[0m\u001b[1;33m.\u001b[0m\u001b[0mtext\u001b[0m\u001b[1;33m)\u001b[0m\u001b[1;33m\u001b[0m\u001b[1;33m\u001b[0m\u001b[0m\n",
      "\u001b[1;32m<ipython-input-12-1d1264b0d7e6>\u001b[0m in \u001b[0;36mmake_soup\u001b[1;34m(url)\u001b[0m\n\u001b[0;32m      1\u001b[0m \u001b[1;32mdef\u001b[0m \u001b[0mmake_soup\u001b[0m\u001b[1;33m(\u001b[0m\u001b[0murl\u001b[0m\u001b[1;33m)\u001b[0m\u001b[1;33m:\u001b[0m\u001b[1;33m\u001b[0m\u001b[1;33m\u001b[0m\u001b[0m\n\u001b[1;32m----> 2\u001b[1;33m     \u001b[1;32mreturn\u001b[0m \u001b[0mbs\u001b[0m\u001b[1;33m(\u001b[0m\u001b[0mrequests\u001b[0m\u001b[1;33m.\u001b[0m\u001b[0mget\u001b[0m\u001b[1;33m(\u001b[0m\u001b[0murl\u001b[0m\u001b[1;33m,\u001b[0m \u001b[0mheaders\u001b[0m \u001b[1;33m=\u001b[0m \u001b[0mheaders\u001b[0m\u001b[1;33m)\u001b[0m\u001b[1;33m.\u001b[0m\u001b[0mtext\u001b[0m\u001b[1;33m,\u001b[0m \u001b[1;34m'html.parser'\u001b[0m\u001b[1;33m)\u001b[0m\u001b[1;33m\u001b[0m\u001b[1;33m\u001b[0m\u001b[0m\n\u001b[0m",
      "\u001b[1;32m~\\anaconda3\\lib\\site-packages\\requests\\api.py\u001b[0m in \u001b[0;36mget\u001b[1;34m(url, params, **kwargs)\u001b[0m\n\u001b[0;32m     74\u001b[0m \u001b[1;33m\u001b[0m\u001b[0m\n\u001b[0;32m     75\u001b[0m     \u001b[0mkwargs\u001b[0m\u001b[1;33m.\u001b[0m\u001b[0msetdefault\u001b[0m\u001b[1;33m(\u001b[0m\u001b[1;34m'allow_redirects'\u001b[0m\u001b[1;33m,\u001b[0m \u001b[1;32mTrue\u001b[0m\u001b[1;33m)\u001b[0m\u001b[1;33m\u001b[0m\u001b[1;33m\u001b[0m\u001b[0m\n\u001b[1;32m---> 76\u001b[1;33m     \u001b[1;32mreturn\u001b[0m \u001b[0mrequest\u001b[0m\u001b[1;33m(\u001b[0m\u001b[1;34m'get'\u001b[0m\u001b[1;33m,\u001b[0m \u001b[0murl\u001b[0m\u001b[1;33m,\u001b[0m \u001b[0mparams\u001b[0m\u001b[1;33m=\u001b[0m\u001b[0mparams\u001b[0m\u001b[1;33m,\u001b[0m \u001b[1;33m**\u001b[0m\u001b[0mkwargs\u001b[0m\u001b[1;33m)\u001b[0m\u001b[1;33m\u001b[0m\u001b[1;33m\u001b[0m\u001b[0m\n\u001b[0m\u001b[0;32m     77\u001b[0m \u001b[1;33m\u001b[0m\u001b[0m\n\u001b[0;32m     78\u001b[0m \u001b[1;33m\u001b[0m\u001b[0m\n",
      "\u001b[1;32m~\\anaconda3\\lib\\site-packages\\requests\\api.py\u001b[0m in \u001b[0;36mrequest\u001b[1;34m(method, url, **kwargs)\u001b[0m\n\u001b[0;32m     59\u001b[0m     \u001b[1;31m# cases, and look like a memory leak in others.\u001b[0m\u001b[1;33m\u001b[0m\u001b[1;33m\u001b[0m\u001b[1;33m\u001b[0m\u001b[0m\n\u001b[0;32m     60\u001b[0m     \u001b[1;32mwith\u001b[0m \u001b[0msessions\u001b[0m\u001b[1;33m.\u001b[0m\u001b[0mSession\u001b[0m\u001b[1;33m(\u001b[0m\u001b[1;33m)\u001b[0m \u001b[1;32mas\u001b[0m \u001b[0msession\u001b[0m\u001b[1;33m:\u001b[0m\u001b[1;33m\u001b[0m\u001b[1;33m\u001b[0m\u001b[0m\n\u001b[1;32m---> 61\u001b[1;33m         \u001b[1;32mreturn\u001b[0m \u001b[0msession\u001b[0m\u001b[1;33m.\u001b[0m\u001b[0mrequest\u001b[0m\u001b[1;33m(\u001b[0m\u001b[0mmethod\u001b[0m\u001b[1;33m=\u001b[0m\u001b[0mmethod\u001b[0m\u001b[1;33m,\u001b[0m \u001b[0murl\u001b[0m\u001b[1;33m=\u001b[0m\u001b[0murl\u001b[0m\u001b[1;33m,\u001b[0m \u001b[1;33m**\u001b[0m\u001b[0mkwargs\u001b[0m\u001b[1;33m)\u001b[0m\u001b[1;33m\u001b[0m\u001b[1;33m\u001b[0m\u001b[0m\n\u001b[0m\u001b[0;32m     62\u001b[0m \u001b[1;33m\u001b[0m\u001b[0m\n\u001b[0;32m     63\u001b[0m \u001b[1;33m\u001b[0m\u001b[0m\n",
      "\u001b[1;32m~\\anaconda3\\lib\\site-packages\\requests\\sessions.py\u001b[0m in \u001b[0;36mrequest\u001b[1;34m(self, method, url, params, data, headers, cookies, files, auth, timeout, allow_redirects, proxies, hooks, stream, verify, cert, json)\u001b[0m\n\u001b[0;32m    540\u001b[0m         }\n\u001b[0;32m    541\u001b[0m         \u001b[0msend_kwargs\u001b[0m\u001b[1;33m.\u001b[0m\u001b[0mupdate\u001b[0m\u001b[1;33m(\u001b[0m\u001b[0msettings\u001b[0m\u001b[1;33m)\u001b[0m\u001b[1;33m\u001b[0m\u001b[1;33m\u001b[0m\u001b[0m\n\u001b[1;32m--> 542\u001b[1;33m         \u001b[0mresp\u001b[0m \u001b[1;33m=\u001b[0m \u001b[0mself\u001b[0m\u001b[1;33m.\u001b[0m\u001b[0msend\u001b[0m\u001b[1;33m(\u001b[0m\u001b[0mprep\u001b[0m\u001b[1;33m,\u001b[0m \u001b[1;33m**\u001b[0m\u001b[0msend_kwargs\u001b[0m\u001b[1;33m)\u001b[0m\u001b[1;33m\u001b[0m\u001b[1;33m\u001b[0m\u001b[0m\n\u001b[0m\u001b[0;32m    543\u001b[0m \u001b[1;33m\u001b[0m\u001b[0m\n\u001b[0;32m    544\u001b[0m         \u001b[1;32mreturn\u001b[0m \u001b[0mresp\u001b[0m\u001b[1;33m\u001b[0m\u001b[1;33m\u001b[0m\u001b[0m\n",
      "\u001b[1;32m~\\anaconda3\\lib\\site-packages\\requests\\sessions.py\u001b[0m in \u001b[0;36msend\u001b[1;34m(self, request, **kwargs)\u001b[0m\n\u001b[0;32m    653\u001b[0m \u001b[1;33m\u001b[0m\u001b[0m\n\u001b[0;32m    654\u001b[0m         \u001b[1;31m# Send the request\u001b[0m\u001b[1;33m\u001b[0m\u001b[1;33m\u001b[0m\u001b[1;33m\u001b[0m\u001b[0m\n\u001b[1;32m--> 655\u001b[1;33m         \u001b[0mr\u001b[0m \u001b[1;33m=\u001b[0m \u001b[0madapter\u001b[0m\u001b[1;33m.\u001b[0m\u001b[0msend\u001b[0m\u001b[1;33m(\u001b[0m\u001b[0mrequest\u001b[0m\u001b[1;33m,\u001b[0m \u001b[1;33m**\u001b[0m\u001b[0mkwargs\u001b[0m\u001b[1;33m)\u001b[0m\u001b[1;33m\u001b[0m\u001b[1;33m\u001b[0m\u001b[0m\n\u001b[0m\u001b[0;32m    656\u001b[0m \u001b[1;33m\u001b[0m\u001b[0m\n\u001b[0;32m    657\u001b[0m         \u001b[1;31m# Total elapsed time of the request (approximately)\u001b[0m\u001b[1;33m\u001b[0m\u001b[1;33m\u001b[0m\u001b[1;33m\u001b[0m\u001b[0m\n",
      "\u001b[1;32m~\\anaconda3\\lib\\site-packages\\requests\\adapters.py\u001b[0m in \u001b[0;36msend\u001b[1;34m(self, request, stream, timeout, verify, cert, proxies)\u001b[0m\n\u001b[0;32m    437\u001b[0m         \u001b[1;32mtry\u001b[0m\u001b[1;33m:\u001b[0m\u001b[1;33m\u001b[0m\u001b[1;33m\u001b[0m\u001b[0m\n\u001b[0;32m    438\u001b[0m             \u001b[1;32mif\u001b[0m \u001b[1;32mnot\u001b[0m \u001b[0mchunked\u001b[0m\u001b[1;33m:\u001b[0m\u001b[1;33m\u001b[0m\u001b[1;33m\u001b[0m\u001b[0m\n\u001b[1;32m--> 439\u001b[1;33m                 resp = conn.urlopen(\n\u001b[0m\u001b[0;32m    440\u001b[0m                     \u001b[0mmethod\u001b[0m\u001b[1;33m=\u001b[0m\u001b[0mrequest\u001b[0m\u001b[1;33m.\u001b[0m\u001b[0mmethod\u001b[0m\u001b[1;33m,\u001b[0m\u001b[1;33m\u001b[0m\u001b[1;33m\u001b[0m\u001b[0m\n\u001b[0;32m    441\u001b[0m                     \u001b[0murl\u001b[0m\u001b[1;33m=\u001b[0m\u001b[0murl\u001b[0m\u001b[1;33m,\u001b[0m\u001b[1;33m\u001b[0m\u001b[1;33m\u001b[0m\u001b[0m\n",
      "\u001b[1;32m~\\anaconda3\\lib\\site-packages\\urllib3\\connectionpool.py\u001b[0m in \u001b[0;36murlopen\u001b[1;34m(self, method, url, body, headers, retries, redirect, assert_same_host, timeout, pool_timeout, release_conn, chunked, body_pos, **response_kw)\u001b[0m\n\u001b[0;32m    697\u001b[0m \u001b[1;33m\u001b[0m\u001b[0m\n\u001b[0;32m    698\u001b[0m             \u001b[1;31m# Make the request on the httplib connection object.\u001b[0m\u001b[1;33m\u001b[0m\u001b[1;33m\u001b[0m\u001b[1;33m\u001b[0m\u001b[0m\n\u001b[1;32m--> 699\u001b[1;33m             httplib_response = self._make_request(\n\u001b[0m\u001b[0;32m    700\u001b[0m                 \u001b[0mconn\u001b[0m\u001b[1;33m,\u001b[0m\u001b[1;33m\u001b[0m\u001b[1;33m\u001b[0m\u001b[0m\n\u001b[0;32m    701\u001b[0m                 \u001b[0mmethod\u001b[0m\u001b[1;33m,\u001b[0m\u001b[1;33m\u001b[0m\u001b[1;33m\u001b[0m\u001b[0m\n",
      "\u001b[1;32m~\\anaconda3\\lib\\site-packages\\urllib3\\connectionpool.py\u001b[0m in \u001b[0;36m_make_request\u001b[1;34m(self, conn, method, url, timeout, chunked, **httplib_request_kw)\u001b[0m\n\u001b[0;32m    443\u001b[0m                     \u001b[1;31m# Python 3 (including for exceptions like SystemExit).\u001b[0m\u001b[1;33m\u001b[0m\u001b[1;33m\u001b[0m\u001b[1;33m\u001b[0m\u001b[0m\n\u001b[0;32m    444\u001b[0m                     \u001b[1;31m# Otherwise it looks like a bug in the code.\u001b[0m\u001b[1;33m\u001b[0m\u001b[1;33m\u001b[0m\u001b[1;33m\u001b[0m\u001b[0m\n\u001b[1;32m--> 445\u001b[1;33m                     \u001b[0msix\u001b[0m\u001b[1;33m.\u001b[0m\u001b[0mraise_from\u001b[0m\u001b[1;33m(\u001b[0m\u001b[0me\u001b[0m\u001b[1;33m,\u001b[0m \u001b[1;32mNone\u001b[0m\u001b[1;33m)\u001b[0m\u001b[1;33m\u001b[0m\u001b[1;33m\u001b[0m\u001b[0m\n\u001b[0m\u001b[0;32m    446\u001b[0m         \u001b[1;32mexcept\u001b[0m \u001b[1;33m(\u001b[0m\u001b[0mSocketTimeout\u001b[0m\u001b[1;33m,\u001b[0m \u001b[0mBaseSSLError\u001b[0m\u001b[1;33m,\u001b[0m \u001b[0mSocketError\u001b[0m\u001b[1;33m)\u001b[0m \u001b[1;32mas\u001b[0m \u001b[0me\u001b[0m\u001b[1;33m:\u001b[0m\u001b[1;33m\u001b[0m\u001b[1;33m\u001b[0m\u001b[0m\n\u001b[0;32m    447\u001b[0m             \u001b[0mself\u001b[0m\u001b[1;33m.\u001b[0m\u001b[0m_raise_timeout\u001b[0m\u001b[1;33m(\u001b[0m\u001b[0merr\u001b[0m\u001b[1;33m=\u001b[0m\u001b[0me\u001b[0m\u001b[1;33m,\u001b[0m \u001b[0murl\u001b[0m\u001b[1;33m=\u001b[0m\u001b[0murl\u001b[0m\u001b[1;33m,\u001b[0m \u001b[0mtimeout_value\u001b[0m\u001b[1;33m=\u001b[0m\u001b[0mread_timeout\u001b[0m\u001b[1;33m)\u001b[0m\u001b[1;33m\u001b[0m\u001b[1;33m\u001b[0m\u001b[0m\n",
      "\u001b[1;32m~\\anaconda3\\lib\\site-packages\\urllib3\\packages\\six.py\u001b[0m in \u001b[0;36mraise_from\u001b[1;34m(value, from_value)\u001b[0m\n",
      "\u001b[1;32m~\\anaconda3\\lib\\site-packages\\urllib3\\connectionpool.py\u001b[0m in \u001b[0;36m_make_request\u001b[1;34m(self, conn, method, url, timeout, chunked, **httplib_request_kw)\u001b[0m\n\u001b[0;32m    438\u001b[0m                 \u001b[1;31m# Python 3\u001b[0m\u001b[1;33m\u001b[0m\u001b[1;33m\u001b[0m\u001b[1;33m\u001b[0m\u001b[0m\n\u001b[0;32m    439\u001b[0m                 \u001b[1;32mtry\u001b[0m\u001b[1;33m:\u001b[0m\u001b[1;33m\u001b[0m\u001b[1;33m\u001b[0m\u001b[0m\n\u001b[1;32m--> 440\u001b[1;33m                     \u001b[0mhttplib_response\u001b[0m \u001b[1;33m=\u001b[0m \u001b[0mconn\u001b[0m\u001b[1;33m.\u001b[0m\u001b[0mgetresponse\u001b[0m\u001b[1;33m(\u001b[0m\u001b[1;33m)\u001b[0m\u001b[1;33m\u001b[0m\u001b[1;33m\u001b[0m\u001b[0m\n\u001b[0m\u001b[0;32m    441\u001b[0m                 \u001b[1;32mexcept\u001b[0m \u001b[0mBaseException\u001b[0m \u001b[1;32mas\u001b[0m \u001b[0me\u001b[0m\u001b[1;33m:\u001b[0m\u001b[1;33m\u001b[0m\u001b[1;33m\u001b[0m\u001b[0m\n\u001b[0;32m    442\u001b[0m                     \u001b[1;31m# Remove the TypeError from the exception chain in\u001b[0m\u001b[1;33m\u001b[0m\u001b[1;33m\u001b[0m\u001b[1;33m\u001b[0m\u001b[0m\n",
      "\u001b[1;32m~\\anaconda3\\lib\\http\\client.py\u001b[0m in \u001b[0;36mgetresponse\u001b[1;34m(self)\u001b[0m\n\u001b[0;32m   1345\u001b[0m         \u001b[1;32mtry\u001b[0m\u001b[1;33m:\u001b[0m\u001b[1;33m\u001b[0m\u001b[1;33m\u001b[0m\u001b[0m\n\u001b[0;32m   1346\u001b[0m             \u001b[1;32mtry\u001b[0m\u001b[1;33m:\u001b[0m\u001b[1;33m\u001b[0m\u001b[1;33m\u001b[0m\u001b[0m\n\u001b[1;32m-> 1347\u001b[1;33m                 \u001b[0mresponse\u001b[0m\u001b[1;33m.\u001b[0m\u001b[0mbegin\u001b[0m\u001b[1;33m(\u001b[0m\u001b[1;33m)\u001b[0m\u001b[1;33m\u001b[0m\u001b[1;33m\u001b[0m\u001b[0m\n\u001b[0m\u001b[0;32m   1348\u001b[0m             \u001b[1;32mexcept\u001b[0m \u001b[0mConnectionError\u001b[0m\u001b[1;33m:\u001b[0m\u001b[1;33m\u001b[0m\u001b[1;33m\u001b[0m\u001b[0m\n\u001b[0;32m   1349\u001b[0m                 \u001b[0mself\u001b[0m\u001b[1;33m.\u001b[0m\u001b[0mclose\u001b[0m\u001b[1;33m(\u001b[0m\u001b[1;33m)\u001b[0m\u001b[1;33m\u001b[0m\u001b[1;33m\u001b[0m\u001b[0m\n",
      "\u001b[1;32m~\\anaconda3\\lib\\http\\client.py\u001b[0m in \u001b[0;36mbegin\u001b[1;34m(self)\u001b[0m\n\u001b[0;32m    305\u001b[0m         \u001b[1;31m# read until we get a non-100 response\u001b[0m\u001b[1;33m\u001b[0m\u001b[1;33m\u001b[0m\u001b[1;33m\u001b[0m\u001b[0m\n\u001b[0;32m    306\u001b[0m         \u001b[1;32mwhile\u001b[0m \u001b[1;32mTrue\u001b[0m\u001b[1;33m:\u001b[0m\u001b[1;33m\u001b[0m\u001b[1;33m\u001b[0m\u001b[0m\n\u001b[1;32m--> 307\u001b[1;33m             \u001b[0mversion\u001b[0m\u001b[1;33m,\u001b[0m \u001b[0mstatus\u001b[0m\u001b[1;33m,\u001b[0m \u001b[0mreason\u001b[0m \u001b[1;33m=\u001b[0m \u001b[0mself\u001b[0m\u001b[1;33m.\u001b[0m\u001b[0m_read_status\u001b[0m\u001b[1;33m(\u001b[0m\u001b[1;33m)\u001b[0m\u001b[1;33m\u001b[0m\u001b[1;33m\u001b[0m\u001b[0m\n\u001b[0m\u001b[0;32m    308\u001b[0m             \u001b[1;32mif\u001b[0m \u001b[0mstatus\u001b[0m \u001b[1;33m!=\u001b[0m \u001b[0mCONTINUE\u001b[0m\u001b[1;33m:\u001b[0m\u001b[1;33m\u001b[0m\u001b[1;33m\u001b[0m\u001b[0m\n\u001b[0;32m    309\u001b[0m                 \u001b[1;32mbreak\u001b[0m\u001b[1;33m\u001b[0m\u001b[1;33m\u001b[0m\u001b[0m\n",
      "\u001b[1;32m~\\anaconda3\\lib\\http\\client.py\u001b[0m in \u001b[0;36m_read_status\u001b[1;34m(self)\u001b[0m\n\u001b[0;32m    266\u001b[0m \u001b[1;33m\u001b[0m\u001b[0m\n\u001b[0;32m    267\u001b[0m     \u001b[1;32mdef\u001b[0m \u001b[0m_read_status\u001b[0m\u001b[1;33m(\u001b[0m\u001b[0mself\u001b[0m\u001b[1;33m)\u001b[0m\u001b[1;33m:\u001b[0m\u001b[1;33m\u001b[0m\u001b[1;33m\u001b[0m\u001b[0m\n\u001b[1;32m--> 268\u001b[1;33m         \u001b[0mline\u001b[0m \u001b[1;33m=\u001b[0m \u001b[0mstr\u001b[0m\u001b[1;33m(\u001b[0m\u001b[0mself\u001b[0m\u001b[1;33m.\u001b[0m\u001b[0mfp\u001b[0m\u001b[1;33m.\u001b[0m\u001b[0mreadline\u001b[0m\u001b[1;33m(\u001b[0m\u001b[0m_MAXLINE\u001b[0m \u001b[1;33m+\u001b[0m \u001b[1;36m1\u001b[0m\u001b[1;33m)\u001b[0m\u001b[1;33m,\u001b[0m \u001b[1;34m\"iso-8859-1\"\u001b[0m\u001b[1;33m)\u001b[0m\u001b[1;33m\u001b[0m\u001b[1;33m\u001b[0m\u001b[0m\n\u001b[0m\u001b[0;32m    269\u001b[0m         \u001b[1;32mif\u001b[0m \u001b[0mlen\u001b[0m\u001b[1;33m(\u001b[0m\u001b[0mline\u001b[0m\u001b[1;33m)\u001b[0m \u001b[1;33m>\u001b[0m \u001b[0m_MAXLINE\u001b[0m\u001b[1;33m:\u001b[0m\u001b[1;33m\u001b[0m\u001b[1;33m\u001b[0m\u001b[0m\n\u001b[0;32m    270\u001b[0m             \u001b[1;32mraise\u001b[0m \u001b[0mLineTooLong\u001b[0m\u001b[1;33m(\u001b[0m\u001b[1;34m\"status line\"\u001b[0m\u001b[1;33m)\u001b[0m\u001b[1;33m\u001b[0m\u001b[1;33m\u001b[0m\u001b[0m\n",
      "\u001b[1;32m~\\anaconda3\\lib\\socket.py\u001b[0m in \u001b[0;36mreadinto\u001b[1;34m(self, b)\u001b[0m\n\u001b[0;32m    667\u001b[0m         \u001b[1;32mwhile\u001b[0m \u001b[1;32mTrue\u001b[0m\u001b[1;33m:\u001b[0m\u001b[1;33m\u001b[0m\u001b[1;33m\u001b[0m\u001b[0m\n\u001b[0;32m    668\u001b[0m             \u001b[1;32mtry\u001b[0m\u001b[1;33m:\u001b[0m\u001b[1;33m\u001b[0m\u001b[1;33m\u001b[0m\u001b[0m\n\u001b[1;32m--> 669\u001b[1;33m                 \u001b[1;32mreturn\u001b[0m \u001b[0mself\u001b[0m\u001b[1;33m.\u001b[0m\u001b[0m_sock\u001b[0m\u001b[1;33m.\u001b[0m\u001b[0mrecv_into\u001b[0m\u001b[1;33m(\u001b[0m\u001b[0mb\u001b[0m\u001b[1;33m)\u001b[0m\u001b[1;33m\u001b[0m\u001b[1;33m\u001b[0m\u001b[0m\n\u001b[0m\u001b[0;32m    670\u001b[0m             \u001b[1;32mexcept\u001b[0m \u001b[0mtimeout\u001b[0m\u001b[1;33m:\u001b[0m\u001b[1;33m\u001b[0m\u001b[1;33m\u001b[0m\u001b[0m\n\u001b[0;32m    671\u001b[0m                 \u001b[0mself\u001b[0m\u001b[1;33m.\u001b[0m\u001b[0m_timeout_occurred\u001b[0m \u001b[1;33m=\u001b[0m \u001b[1;32mTrue\u001b[0m\u001b[1;33m\u001b[0m\u001b[1;33m\u001b[0m\u001b[0m\n",
      "\u001b[1;32m~\\anaconda3\\lib\\ssl.py\u001b[0m in \u001b[0;36mrecv_into\u001b[1;34m(self, buffer, nbytes, flags)\u001b[0m\n\u001b[0;32m   1239\u001b[0m                   \u001b[1;34m\"non-zero flags not allowed in calls to recv_into() on %s\"\u001b[0m \u001b[1;33m%\u001b[0m\u001b[1;33m\u001b[0m\u001b[1;33m\u001b[0m\u001b[0m\n\u001b[0;32m   1240\u001b[0m                   self.__class__)\n\u001b[1;32m-> 1241\u001b[1;33m             \u001b[1;32mreturn\u001b[0m \u001b[0mself\u001b[0m\u001b[1;33m.\u001b[0m\u001b[0mread\u001b[0m\u001b[1;33m(\u001b[0m\u001b[0mnbytes\u001b[0m\u001b[1;33m,\u001b[0m \u001b[0mbuffer\u001b[0m\u001b[1;33m)\u001b[0m\u001b[1;33m\u001b[0m\u001b[1;33m\u001b[0m\u001b[0m\n\u001b[0m\u001b[0;32m   1242\u001b[0m         \u001b[1;32melse\u001b[0m\u001b[1;33m:\u001b[0m\u001b[1;33m\u001b[0m\u001b[1;33m\u001b[0m\u001b[0m\n\u001b[0;32m   1243\u001b[0m             \u001b[1;32mreturn\u001b[0m \u001b[0msuper\u001b[0m\u001b[1;33m(\u001b[0m\u001b[1;33m)\u001b[0m\u001b[1;33m.\u001b[0m\u001b[0mrecv_into\u001b[0m\u001b[1;33m(\u001b[0m\u001b[0mbuffer\u001b[0m\u001b[1;33m,\u001b[0m \u001b[0mnbytes\u001b[0m\u001b[1;33m,\u001b[0m \u001b[0mflags\u001b[0m\u001b[1;33m)\u001b[0m\u001b[1;33m\u001b[0m\u001b[1;33m\u001b[0m\u001b[0m\n",
      "\u001b[1;32m~\\anaconda3\\lib\\ssl.py\u001b[0m in \u001b[0;36mread\u001b[1;34m(self, len, buffer)\u001b[0m\n\u001b[0;32m   1097\u001b[0m         \u001b[1;32mtry\u001b[0m\u001b[1;33m:\u001b[0m\u001b[1;33m\u001b[0m\u001b[1;33m\u001b[0m\u001b[0m\n\u001b[0;32m   1098\u001b[0m             \u001b[1;32mif\u001b[0m \u001b[0mbuffer\u001b[0m \u001b[1;32mis\u001b[0m \u001b[1;32mnot\u001b[0m \u001b[1;32mNone\u001b[0m\u001b[1;33m:\u001b[0m\u001b[1;33m\u001b[0m\u001b[1;33m\u001b[0m\u001b[0m\n\u001b[1;32m-> 1099\u001b[1;33m                 \u001b[1;32mreturn\u001b[0m \u001b[0mself\u001b[0m\u001b[1;33m.\u001b[0m\u001b[0m_sslobj\u001b[0m\u001b[1;33m.\u001b[0m\u001b[0mread\u001b[0m\u001b[1;33m(\u001b[0m\u001b[0mlen\u001b[0m\u001b[1;33m,\u001b[0m \u001b[0mbuffer\u001b[0m\u001b[1;33m)\u001b[0m\u001b[1;33m\u001b[0m\u001b[1;33m\u001b[0m\u001b[0m\n\u001b[0m\u001b[0;32m   1100\u001b[0m             \u001b[1;32melse\u001b[0m\u001b[1;33m:\u001b[0m\u001b[1;33m\u001b[0m\u001b[1;33m\u001b[0m\u001b[0m\n\u001b[0;32m   1101\u001b[0m                 \u001b[1;32mreturn\u001b[0m \u001b[0mself\u001b[0m\u001b[1;33m.\u001b[0m\u001b[0m_sslobj\u001b[0m\u001b[1;33m.\u001b[0m\u001b[0mread\u001b[0m\u001b[1;33m(\u001b[0m\u001b[0mlen\u001b[0m\u001b[1;33m)\u001b[0m\u001b[1;33m\u001b[0m\u001b[1;33m\u001b[0m\u001b[0m\n",
      "\u001b[1;31mKeyboardInterrupt\u001b[0m: "
     ]
    }
   ],
   "source": [
    "for url in sample_urls:\n",
    "    if url.startswith(base_url):\n",
    "        soup = make_soup(url)\n",
    "        print(url)\n",
    "        print(soup.find('span', 'entry-author-name').text)\n",
    "        print(soup.find('div', 'entry-content').find('p').text)"
   ]
  },
  {
   "cell_type": "code",
   "execution_count": 17,
   "id": "98fc1699",
   "metadata": {},
   "outputs": [],
   "source": [
    "test_p = soup.find('div', 'entry-content').find('p')"
   ]
  },
  {
   "cell_type": "code",
   "execution_count": 18,
   "id": "951433bb",
   "metadata": {},
   "outputs": [
    {
     "data": {
      "text/plain": [
       "213"
      ]
     },
     "execution_count": 18,
     "metadata": {},
     "output_type": "execute_result"
    }
   ],
   "source": [
    "len(test_p.text)"
   ]
  },
  {
   "cell_type": "code",
   "execution_count": 19,
   "id": "18ea5af9",
   "metadata": {},
   "outputs": [
    {
     "data": {
      "text/plain": [
       "<p>This trifle will look smashing on your Christmas table!!! Layers of custard and jelly, studded with cake and piled high with cream and fruit, it looks stunning in a trifle dish but otherwise just use a glass bowl!</p>"
      ]
     },
     "execution_count": 19,
     "metadata": {},
     "output_type": "execute_result"
    }
   ],
   "source": [
    "test_p"
   ]
  },
  {
   "cell_type": "code",
   "execution_count": 35,
   "id": "0080b04f",
   "metadata": {},
   "outputs": [],
   "source": [
    "def description_helper(soup):\n",
    "    description = ''\n",
    "    div_tags = soup.find_all('div', class_='core-paragraph')\n",
    "    for div_tag in div_tags:\n",
    "        p_tags = div_tag.find_all('p')\n",
    "        for p_tag in p_tags:\n",
    "            if len(p_tag.text) > 0 and 'not-prose' not in p_tag.find_parent().attrs['class']:\n",
    "                description += f\" {p_tag.text}\"\n",
    "    description = description.replace(\"\\n\", '').replace(\"\\xa0\", '').strip()\n",
    "    return description"
   ]
  },
  {
   "cell_type": "code",
   "execution_count": 78,
   "id": "f2be6112",
   "metadata": {
    "scrolled": true
   },
   "outputs": [
    {
     "name": "stdout",
     "output_type": "stream",
     "text": [
      "https://www.forksoverknives.com/recipes//recipes/amazing-grains/vegan-polenta-recipes-to-fall-in-love-with/\n",
      "\n",
      "https://www.forksoverknives.com/recipes//recipes/vegan-breakfast/vegan-chilaquiles/\n",
      "Chilaquiles originated as a way to use leftover tortillas the morning after a big meal, but this taco-inspired version would be perfect at any time of day. Here, crispy tortilla chips are smothered in a tangy homemade salsa and topped with hearty quinoa infused with the smoky, spicy flavors of Southwest seasoning. Creamy black beans add extra substance while fresh cilantro and scallions dial up the herbal aromas of this mouthwatering dish. Feel free to top with a drizzle of your favorite hot sauce, and dig in! For more vegan Mexican-inspired breakfast recipes, check out these tasty ideas:\n",
      "https://www.forksoverknives.com/recipes//recipes/amazing-grains/baked-vegetable-biryani/\n",
      "A true Indian classic, vegetable biryani is usually made on the stove top, but this simplified version makes for a great baked dish that requires less effort. Fragrant saffron, ginger, and garam masala are infused into chewy brown rice that’s layered between a medley of mixed veggies. Raisins add bursts of sweet flavor while cashews add crunch, and fresh herbs create an aromatic finish that ties everything together. Top the casserole with baked onion to enhance the savory flavors of this exquisite dish and get ready to dig into your new favorite recipe. For more vegan Indian recipes, check out these tasty ideas:\n",
      "https://www.forksoverknives.com/recipes//recipes/vegan-salads-sides/instant-pot-artichokes-with-lemony-vegan-aioli/\n",
      "Not sure how to steam a whole artichoke? An electric multicooker such as the Instant Pot turns this delicate task into a walk in the park. With this recipe, we show you how to cook artichokes to tender perfection in the Instant Pot and how to serve and eat them. We’ve also paired the steamed veggie delicacy with a lemony vegan aïoli dipping sauce to provide a kick of bright acidity that complements the rich artichoke flesh. Enjoy these Instant Pot artichokes as an appetizer or side dish when you’re serving up a vegan Mediterranean-inspired dinner! For more inspiration, check out these tasty ideas:\n",
      "https://www.forksoverknives.com/recipes//recipes/amazing-grains/wild-mushroom-and-asparagus-risotto/\n",
      "Umami-rich mushrooms and earthy asparagus are the dream team when it comes to risotto. Here, we combine these two powerhouse veggies with fragrant garlic, bright lemon juice, and herbaceous dill to create rich flavor in this classic Italian rice dish. Wholesome, fiber-rich brown rice replaces traditional Arborio and soaks up a savory combination of veggie stock and white wine until every grain becomes deliciously tender. The end result is a skillet full of creamy, veggie-packed rice that will satisfy your belly and soothe your soul. Add a sprinkling of cheesy nutritional yeast for the perfect finishing touch, and then dig in! Tip: You can save veggie scraps to make your own broth. In an airtight container in your freezer, collect scraps from fresh mushrooms, onions, carrots, celery, potatoes, red and yellow peppers, tomatoes, squash, and herbs. Once you have 8 cups of scraps, place them in a large pot, cover with water, and simmer for 2 hours or until broth is flavorful. Strain and refrigerate or freeze broth. For more inspiration, check out these tasty ideas:\n",
      "https://www.forksoverknives.com/recipes//recipes/vegan-snacks-appetizers/air-fried-southwest-spring-rolls/\n",
      "Sink your teeth into a creative combination of Southwest taco flavors wrapped up in the form of a spring roll. Mushrooms, chickpeas, and walnuts are finely chopped in a food processor and seasoned with a blend of smoky spices and herbs to create a savory plant-based chorizo that serves as the base of each roll. Smashed pinto beans, cilantro, scallions, and fresno chile are layered into each rice paper wrapper before everything is wrapped up like a baby burrito and toasted to crispy perfection in the air fryer. Serve with a side of salsa for dipping, and prepare to take your taste buds on a wildly delicious journey! If you want to switch it up, you can also try these spring rolls fresh and unfried. Tip: Choose a salsa that is on the thicker side but not too chunky or piecey; that way it will stick to the spring rolls when dipped. Note: Some chili powders are cut with wheat flour, making them unsuitable for people with gluten allergies. If gluten is a concern, make sure to check the ingredient to ensure it is pure chili powder. For more healthy air-fryer recipes, check out these tasty ideas:\n",
      "https://www.forksoverknives.com/recipes//recipes/vegan-desserts/sweet-potato-rosette-tart/\n",
      "This stunning sweet potato tart uses two different types of tubers to achieve the scrumptious end result. Orange sweet potatoes are mashed with zesty orange juice and warming pumpkin pie spice to create a custard-like filling, while steamed purple sweet potato petals are placed in an eye-catching rosette pattern and topped with crushed almonds. (Steaming the purple potatoes separately and adding them after baking ensures the best texture and color.) The nutty oat and almond crust contrasts nicely with the earthy sweetness of the tart filling, and you can top each slice with Aquafaba Whipped Cream if you want an extra dose of decadence. Serve up this jaw-dropping dessert when you want to impress guests and end your evening on a sweet note! For more vegan sweet potato desserts, check out these tasty recipes:\n",
      "https://www.forksoverknives.com/recipes//recipes/vegan-soups-stews/butternut-bisque-with-parsley-pistou/\n",
      "Silky smooth, packed full of flavor, and topped with a French-inspired variation on pesto, this butternut squash bisque is what soup dreams are made of. The orange-hued base features sautéed onions, garlic, and thyme to create a rich bisque where every slurp tastes like a spoonful of liquid gold. The secret to producing the perfect velvety texture is to add a can of creamy butter beans into the mix and puree everything with an immersion blender. Once spooned into bowls, a drizzle of pepita and parsley pistou—a sauce that normally features basil and olive oil—is ideal for swirling into the soup. Serve this butternut bisque with a side of crusty whole grain bread for an extra hearty meal. For more soup inspiration, check out these tasty ideas:\n",
      "https://www.forksoverknives.com/recipes//recipes/vegan-snacks-appetizers/pinto-bean-spread/\n",
      "The following recipe is adapted from Seed to Plate, Soil to Sky: Modern Plant-Based Recipes Using Native American Ingredients by Lois Ellen Frank with culinary adviser Walter Whitewater. Read our Q&A with chefs Frank and Whitewater here. Chef Walter grew up eating pinto beans all the time, and he loves this bean spread served on sandwiches, toast, and with freshly cut vegetables for a family gathering or celebration. I use this spread on my toast in the morning for a quick, nutritious breakfast. For an ancestral twist, try making it with brown tepary beans (S-oam Bavi), white tepary beans (S-totoah Bavi), and black tepary beans (S-chuuk Bavi). We find that blackening garlic is well worth the extra 10 minutes of prep time. It softens the flavor of raw garlic and brings an earthy quality to any dish. For more vegan spreads, check out these tasty ideas:\n",
      "https://www.forksoverknives.com/recipes//recipes/vegan-snacks-appetizers/fresh-spinach-hummus/\n",
      "Perfectly fluffy and a dreamy shade of green, this delicious spinach hummus combines classic hummus ingredients with the earthy goodness of fresh spinach to create a scrumptious spread that’s picturesque enough to serve as an appetizer at your next party while still being kid-friendly. The secret to getting a light and fluffy texture is to add a few ice cubes when blending—a handy trick to keep in mind for other hummus recipes! Serve this stunning oil-free spinach hummus as a dip with pita squares, crackers, or crudités. It’s also excellent as a fresh, flavorful spread on sandwiches or wraps. For more inspiration, check out these tasty ideas:\n"
     ]
    }
   ],
   "source": [
    "for url in sample_urls[0:10]:\n",
    "    print(url)\n",
    "    soup = make_soup(url)\n",
    "    print(description_helper(soup))"
   ]
  },
  {
   "cell_type": "code",
   "execution_count": 82,
   "id": "01c28b52",
   "metadata": {},
   "outputs": [],
   "source": [
    "soup = make_soup(sample_urls[3])"
   ]
  },
  {
   "cell_type": "code",
   "execution_count": 83,
   "id": "0076092f",
   "metadata": {},
   "outputs": [
    {
     "data": {
      "text/plain": [
       "<div class=\"mb-8\"><ul class=\"font-serif leading-7 text-fok-navy-500\"><li class=\"mb-2.5 text-base lg:text-lg\"><span>12.3-oz. package extra-firm silken-style tofu</span></li><li class=\"mb-2.5 text-base lg:text-lg\"><span>¼ cup lightly packed fresh parsley</span></li><li class=\"mb-2.5 text-base lg:text-lg\"><span>1 clove garlic</span></li><li class=\"mb-2.5 text-base lg:text-lg\"><span>Pinch cayenne pepper</span></li><li class=\"mb-2.5 text-base lg:text-lg\"><span>4 tablespoons lemon juice</span></li><li class=\"mb-2.5 text-base lg:text-lg\"><span>1 clove garlic, minced</span></li><li class=\"mb-2.5 text-base lg:text-lg\"><span>¼ teaspoon freshly ground black pepper</span></li><li class=\"mb-2.5 text-base lg:text-lg\"><span>4 small fresh globe artichokes (8 oz. each)</span></li><li class=\"mb-2.5 text-base lg:text-lg\"><span>2 lemon wedges</span></li></ul></div>"
      ]
     },
     "execution_count": 83,
     "metadata": {},
     "output_type": "execute_result"
    }
   ],
   "source": [
    "soup.find('div', 'mb-8')"
   ]
  },
  {
   "cell_type": "markdown",
   "id": "59e47c1e",
   "metadata": {},
   "source": [
    "Finding and bringing in the Ingredient information"
   ]
  },
  {
   "cell_type": "code",
   "execution_count": 50,
   "id": "1c698bd9",
   "metadata": {},
   "outputs": [
    {
     "name": "stdout",
     "output_type": "stream",
     "text": [
      "https://www.recipetineats.com/muesli-bars-granola-bars/\n"
     ]
    },
    {
     "ename": "AttributeError",
     "evalue": "'NoneType' object has no attribute 'find'",
     "output_type": "error",
     "traceback": [
      "\u001b[1;31m---------------------------------------------------------------------------\u001b[0m",
      "\u001b[1;31mAttributeError\u001b[0m                            Traceback (most recent call last)",
      "\u001b[1;32m<ipython-input-50-05ac4af69039>\u001b[0m in \u001b[0;36m<module>\u001b[1;34m\u001b[0m\n\u001b[0;32m      4\u001b[0m         \u001b[0mprint\u001b[0m\u001b[1;33m(\u001b[0m\u001b[0murl\u001b[0m\u001b[1;33m)\u001b[0m\u001b[1;33m\u001b[0m\u001b[1;33m\u001b[0m\u001b[0m\n\u001b[0;32m      5\u001b[0m         \u001b[0msoup\u001b[0m \u001b[1;33m=\u001b[0m \u001b[0mmake_soup\u001b[0m\u001b[1;33m(\u001b[0m\u001b[0murl\u001b[0m\u001b[1;33m)\u001b[0m\u001b[1;33m\u001b[0m\u001b[1;33m\u001b[0m\u001b[0m\n\u001b[1;32m----> 6\u001b[1;33m         \u001b[0mprint\u001b[0m\u001b[1;33m(\u001b[0m\u001b[1;33m[\u001b[0m\u001b[0mli\u001b[0m\u001b[1;33m.\u001b[0m\u001b[0mtext\u001b[0m \u001b[1;32mfor\u001b[0m \u001b[0mli\u001b[0m \u001b[1;32min\u001b[0m \u001b[0msoup\u001b[0m\u001b[1;33m.\u001b[0m\u001b[0mfind\u001b[0m\u001b[1;33m(\u001b[0m\u001b[1;34m'div'\u001b[0m\u001b[1;33m,\u001b[0m \u001b[1;34m'mb-8'\u001b[0m\u001b[1;33m)\u001b[0m\u001b[1;33m.\u001b[0m\u001b[0mfind\u001b[0m\u001b[1;33m(\u001b[0m\u001b[1;34m'ol'\u001b[0m\u001b[1;33m)\u001b[0m\u001b[1;33m.\u001b[0m\u001b[0mfind_all\u001b[0m\u001b[1;33m(\u001b[0m\u001b[1;34m'li'\u001b[0m\u001b[1;33m)\u001b[0m\u001b[1;33m]\u001b[0m\u001b[1;33m)\u001b[0m\u001b[1;33m\u001b[0m\u001b[1;33m\u001b[0m\u001b[0m\n\u001b[0m",
      "\u001b[1;31mAttributeError\u001b[0m: 'NoneType' object has no attribute 'find'"
     ]
    }
   ],
   "source": [
    "### Ingredients\n",
    "for url in sample_urls[1:15]:\n",
    "    if url.startswith(base_url):\n",
    "        print(url)\n",
    "        soup = make_soup(url)\n",
    "        print([li.text for li in soup.find('div', 'mb-8').find('ol').find_all('li')])"
   ]
  },
  {
   "cell_type": "code",
   "execution_count": 28,
   "id": "7dc1955c",
   "metadata": {},
   "outputs": [
    {
     "data": {
      "text/plain": [
       "'Chocolate (read Note 1!):'"
      ]
     },
     "execution_count": 28,
     "metadata": {},
     "output_type": "execute_result"
    }
   ],
   "source": [
    "soup.find('div', 'wprm-recipe-ingredient-group').find('h4').text"
   ]
  },
  {
   "cell_type": "code",
   "execution_count": 49,
   "id": "78a5982d",
   "metadata": {
    "scrolled": false
   },
   "outputs": [
    {
     "name": "stdout",
     "output_type": "stream",
     "text": [
      "https://www.recipetineats.com/muesli-bars-granola-bars/\n",
      "▢ 1/2 cup (120g)   pure natural peanut butter, smooth, or other nut butter (mix oil in well, Note 1)\n",
      "▢ 1/2 cup (175 g)  honey (Note 2)\n",
      "Add ins (3 1/2 cups your choice, Note 3):\n",
      "▢ 1 1/2 cups rolled oats\n",
      "▢ 1 cup sultanas\n",
      "▢ 1/4 cup desiccated coconut , unsweetened\n",
      "▢ 1/2 cup almonds , very roughly chopped\n",
      "▢ 1/4 cup pepitas\n",
      "▢ 2 tbsp white sesame seeds\n",
      "▢ 1/8 tsp salt\n",
      "▢ 1/2 tsp cinnamon\n",
      "https://www.recipetineats.com/vegetable-curry/\n",
      "Spice Mix:\n",
      "▢ 2 tbsp curry powder , mild or hot (Note 1)\n",
      "▢ 1 tsp All Spice powder\n",
      "▢ 1 tsp nutmeg powder (or 1/2 tsp freshly grated nutmeg)\n",
      "▢ 1 1/2 tsp smoked paprika (sub with sweet or ordinary paprika)\n",
      "▢ 2 tsp dried thyme leaves (or 3 tsp fresh thyme leaves)\n",
      "▢ 1 tsp cumin powder\n",
      "▢ 3/4 tsp cayenne pepper (adjust to taste)\n",
      "▢ 1 tsp pepper (white or black)\n",
      "Curry:\n",
      "▢ 3 tbsp cooking oil\n",
      "▢ 1 large onion , diced (brown, white, yellow)\n",
      "▢ 1 large red chilli / cayenne pepper , deseeded and finely sliced\n",
      "▢ 2 large garlic cloves , minced\n",
      "▢ 1 large red capsicum / bell pepper * , chopped into 1.7cm / 2/3\" pieces (~1.5 cups)\n",
      "▢ 800g/ 28 oz canned crushed tomato\n",
      "▢ 2 cups (500 ml) vegetable or chicken broth\n",
      "▢ 1 zucchini , diced (~1 cup) *\n",
      "▢ 2 cups sweet potato * , 1.5cm / 3/5\" cubes (~225g/7.5oz)\n",
      "▢ 2 cups cauliflower florets * , small / medium (~180g/6oz)\n",
      "▢ 3/4 cup frozen peas *\n",
      "▢ 2 handfuls baby spinach , optional (Note 2)\n",
      "▢ 1/2 cup finely chopped coriander/cilantro (leaves and stems), plus more for garnish\n",
      "▢ Salt and pepper\n",
      "▢ Yoghurt (plain or Greek)\n",
      "Serving - choose:\n",
      "▢ Basmati rice\n",
      "▢ White rice\n",
      "https://www.recipetineats.com/italian-orzo-salad-risoni/\n",
      "▢ 250g / 8oz risoni / orzo pasta  – 1 1/4 cups (Note 1)\n",
      "▢ 2 tsp salt , for cooking pasta\n",
      "▢ 2 tsp extra virgin olive oil\n",
      "Salad add-ins (Note 2):\n",
      "▢ 250g/ 8 oz salami slices , chopped into 1.25 cm / 1/2\" squares (Note 2)\n",
      "▢ 1 cup sliced kalamata olives (1 x 220g/7oz jar) – or other olives or briny things (Note 4)\n",
      "▢ 2 tightly packed cups baby rocket / arugula , torn by hand\n",
      "▢ 400g/ 14oz cherry tomatoes , quartered (2 1/2 cups)\n",
      "▢ 1 large green capsicum , cut into 1.25cm / 1/2″ squares\n",
      "▢ 1/2 red onion , finely diced\n",
      "▢ 1 1/2 cups (tightly packed)  colby cheese , shredded into short strands (Note 5)\n",
      "Italian dressing:\n",
      "▢ 1/3 cup extra virgin olive oil\n",
      "▢ 3 tbsp red wine vinegar (or white wine vinegar, sub apple cider vinegar)\n",
      "▢ 1 garlic clove , crushed using garlic press or grated using microplane\n",
      "▢ 1 tsp dried basil\n",
      "▢ 1/4 tsp red chilli flakes (optional)\n",
      "▢ 1 tsp dried oregano\n",
      "▢ 1/2 tsp sugar\n",
      "▢ 1 tsp cooking/kosher salt\n",
      "https://www.recipetineats.com/10-classic-chinese-dishes-1-amazing-sauce/\n",
      "▢ 200 g/7oz  fresh chow mein egg noodles\n",
      "▢ 2 cups Chinese cabbage , shredded\n",
      "▢ 1 cup carrot , shredded\n",
      "▢ 100 g/4oz  chicken (or beef or pork) sliced against the grain\n",
      "▢ 2 shallot/scallion stems , cut into 2″/4cm slices\n",
      "▢ 3 garlic cloves , minced\n",
      "▢ 1 1/2 tbsp oil\n",
      "▢ ¼ cup Real Chinese All Purpose Stir Fry Sauce\n",
      "▢ ½ cup water\n",
      "▢ 200 g/7oz  fresh chow mein egg noodles\n",
      "▢ 2 cups bean sprouts\n",
      "▢ 40 g/1 oz  chives , cut into 4cm/2″ lengths\n",
      "▢ 3 tbsp oil\n",
      "▢ 3 tbsp Real Chinese All Purpose Stir Fry Sauce\n",
      "▢ 2 dashes white pepper\n",
      "▢ 1/3 cup water\n",
      "▢ Toasted sesame seeds (garnish)\n",
      "▢ 1/2 cup your choice of sliced chicken or pork\n",
      "▢ 200 g / 7 oz Hokkien noodles\n",
      "▢ 1 1/2 cups Chinese cabbage , shredded\n",
      "▢ 1 cup bean sprouts\n",
      "▢ 1 cup broccoli florets\n",
      "▢ 1 cup shredded carrot\n",
      "▢ 2 shallot/scallion stems , cut into 4cm/2″ slices\n",
      "▢ 2 tbsp oil\n",
      "▢ 1/4 cup Real Chinese All Purpose Stir Fry Sauce\n",
      "▢ 1 cup water\n",
      "▢ White pepper to taste\n",
      "▢ 5 oz/150 g  chicken , thinly sliced\n",
      "▢ 2 bok choys , leaves cut from stem and stem cut into 1/4″/1cm sticks\n",
      "▢ 1 carrot , sliced thinly on diagonal\n",
      "▢ 2 shallot/scallion stems , cut into 2″/4cm\n",
      "▢ Handful of bean sprouts\n",
      "▢ 1 tsp garlic , minced\n",
      "▢ 2 tbsp oil\n",
      "▢ ¼ cup Real Chinese All Purpose Stir Fry Sauce\n",
      "▢ 1 tbsp chilli bean sauce (optional)\n",
      "▢ ½ cup water\n",
      "▢ 250 g/8oz  snow peas , trimmed\n",
      "▢ 200 g/7oz  beef , sliced thinly against the grain\n",
      "▢ 1 tsp garlic , minced\n",
      "▢ 2 tbsp oil\n",
      "▢ ¼ cup Real Chinese All Purpose Stir Fry Sauce\n",
      "▢ ½ cup water\n",
      "▢ 400 g/10oz  chicken thigh fillets , cut into cubes\n",
      "▢ 1/2 cup unsalted cashew nuts\n",
      "▢ 1 green capsicum/bell pepper , cut into small square pieces\n",
      "▢ 1/4 brown or white onion , cut into 1cm/0.5″ squares\n",
      "▢ 1 tsp ginger , julienned or minced\n",
      "▢ 2 tbsp oil\n",
      "▢ 3 tbsp Real Chinese All Purpose Stir Fry Sauce\n",
      "▢ 1 tbsp Chinese cooking wine\n",
      "▢ 1/2 cup water\n",
      "▢ 8 oz/200g  fresh wide flat rice noodle (Thai recipe uses Sen Yai) or the widest dried rice noodle stick you can find (even Pad Thai is ok)\n",
      "▢ 4 cups (packed) Chinese broccoli, leaves separated from stems (cut stems vertically into thin sticks)\n",
      "▢ 2 cloves garlic , minced\n",
      "▢ 1 cup chicken , sliced into 1/4″ / 0.5cm slices\n",
      "▢ 1 large egg\n",
      "▢ 2 tbsp oil\n",
      "▢ 1/4 cup Real Chinese All Purpose Stir Fry Sauce\n",
      "▢ 1/2 cup water\n",
      "▢ 200 g/7oz  beef , sliced thinly against the grain\n",
      "▢ 1 head broccoli , cut into florets (about 4 cups), blanched or steamed (should be still crisp)\n",
      "▢ 1 tbsp ginger , julienned\n",
      "▢ 1 1/2 tbsp oil\n",
      "▢ ¼ cup Real Chinese All Purpose Stir Fry Sauce\n",
      "▢ ½ cup water\n",
      "▢ 100 g/4oz  pork , sliced thinly against the grain\n",
      "▢ 200g / 7 oz shanghai style noodles (or udon noodles)\n",
      "▢ 2 cups Chinese cabbage , shredded\n",
      "▢ 2 tbsp oil\n",
      "▢ 1 garlic clove , minced\n",
      "▢ 1/4 cup Real Chinese All Purpose Stir Fry Sauce\n",
      "▢ 2 tsp Chilli Bean Sauce (or Sriracha or any other Asian chilli sauce)\n",
      "▢ 1/2 cup water\n",
      "▢ 200 g flat rice noodles (“he fen” or “shahe fen”)\n",
      "▢ 100 g/3oz beef , sliced\n",
      "▢ 1/2 onion , sliced\n",
      "▢ 1 cup bean sprouts (optional: trim them)\n",
      "▢ 2 scallion/shallot stems , cut into 2″/4cm pieces\n",
      "▢ 2 tbsp oil\n",
      "▢ 1 tbsp ginger , julienned or minced\n",
      "▢ 1/4 cup Real Chinese All Purpose Stir Fry Sauce\n",
      "▢ 1/2 cup water\n",
      "https://www.recipetineats.com/rocky-road-recipe/\n",
      "Chocolate (read Note 1!):\n",
      "▢ 225 – 250g / 8 oz dark chocolate melts or chips (1 1/2 cups) or block, chopped (US: semi-sweet chips)\n",
      "▢ 225 – 250g / 8 oz milk chocolate melts or chips (1 1/2 cups) or block, chopped (or more dark choc)\n",
      "▢ 2 tbsp coconut oil or any plain flavoured oil (prevents cracking, adds bit of sheen, Note 2)\n",
      "Nagi’s Rocky Road Add-ins (Note 3):\n",
      "▢ 3 cups marshmallows, pink and white , most cut in half (firmly pack the cups!)\n",
      "▢ 3/4 cup raspberry lollies , halved\n",
      "▢ 1/3 cup desiccated coconut (or flakes), unsweetened\n",
      "▢ 1/2 cup unsalted peanuts , very roughly chopped (ie almost just halved)\n"
     ]
    }
   ],
   "source": [
    "for url in sample_urls[1:15]:\n",
    "    if url.startswith(base_url):\n",
    "        print(url)\n",
    "        soup = make_soup(url)    \n",
    "        try:\n",
    "            ingredient_groups = soup.find_all('div', class_='wprm-recipe-ingredient-group')\n",
    "            if ingredient_groups:\n",
    "                for ingredient_group in ingredient_groups:\n",
    "                    ul_elements = ingredient_group.find_all('ul')\n",
    "                    for ul_element in ul_elements:\n",
    "                        # Check if ul_element has a preceding h4 element\n",
    "                        h4_element = ul_element.find_previous_sibling('h4')\n",
    "                        if h4_element:\n",
    "                            print(h4_element.text)\n",
    "                        li_items = ul_element.find_all('li')\n",
    "                        for li_item in li_items:\n",
    "                            print(li_item.text)\n",
    "            else:\n",
    "                print(\"No ingredient groups found\")\n",
    "        except Exception as e:\n",
    "            print(f\"Error processing URL {url}: {e}\")\n",
    "            continue  # Skip to the next iteration if an error occurs\n"
   ]
  },
  {
   "cell_type": "code",
   "execution_count": null,
   "id": "a66f4bc2",
   "metadata": {},
   "outputs": [],
   "source": [
    "<div class=\"wprm-recipe-ingredient-group\"><h4 class=\"wprm-recipe-group-name wprm-recipe-ingredient-group-name wprm-block-text-bold\">Spiced Lamb</h4><ul class=\"wprm-recipe-ingredients\"><li class=\"wprm-recipe-ingredient\" style=\"list-style-type: none;\"><span class=\"wprm-checkbox-container\"><input type=\"checkbox\" id=\"wprm-checkbox-0\" class=\"wprm-checkbox\" aria-label=\"&nbsp;8 oz / 250 g  ground lamb (mince)\"><label for=\"wprm-checkbox-0\" class=\"wprm-checkbox-label\"><span class=\"sr-only screen-reader-text wprm-screen-reader-text\">▢ </span></label></span><span class=\"wprm-recipe-ingredient-amount\">8 oz / 250 g </span> <span class=\"wprm-recipe-ingredient-name\">ground lamb</span> <span class=\"wprm-recipe-ingredient-notes wprm-recipe-ingredient-notes-faded\">(mince)</span></li><li class=\"wprm-recipe-ingredient\" style=\"list-style-type: none;\"><span class=\"wprm-checkbox-container\"><input type=\"checkbox\" id=\"wprm-checkbox-1\" class=\"wprm-checkbox\" aria-label=\"&nbsp;1/2 brown onion , finely diced\"><label for=\"wprm-checkbox-1\" class=\"wprm-checkbox-label\"><span class=\"sr-only screen-reader-text wprm-screen-reader-text\">▢ </span></label></span><span class=\"wprm-recipe-ingredient-amount\">1/2</span> <span class=\"wprm-recipe-ingredient-name\">brown onion</span> <span class=\"wprm-recipe-ingredient-notes wprm-recipe-ingredient-notes-faded\">, finely diced</span></li><li class=\"wprm-recipe-ingredient\" style=\"list-style-type: none;\"><span class=\"wprm-checkbox-container\"><input type=\"checkbox\" id=\"wprm-checkbox-2\" class=\"wprm-checkbox\" aria-label=\"&nbsp;1 tbsp olive oil\"><label for=\"wprm-checkbox-2\" class=\"wprm-checkbox-label\"><span class=\"sr-only screen-reader-text wprm-screen-reader-text\">▢ </span></label></span><span class=\"wprm-recipe-ingredient-amount\">1</span> <span class=\"wprm-recipe-ingredient-unit\">tbsp</span> <span class=\"wprm-recipe-ingredient-name\">olive oil</span></li><li class=\"wprm-recipe-ingredient\" style=\"list-style-type: none;\"><span class=\"wprm-checkbox-container\"><input type=\"checkbox\" id=\"wprm-checkbox-3\" class=\"wprm-checkbox\" aria-label=\"&nbsp;1/2 tsp cumin powder\"><label for=\"wprm-checkbox-3\" class=\"wprm-checkbox-label\"><span class=\"sr-only screen-reader-text wprm-screen-reader-text\">▢ </span></label></span><span class=\"wprm-recipe-ingredient-amount\">1/2</span> <span class=\"wprm-recipe-ingredient-unit\">tsp</span> <span class=\"wprm-recipe-ingredient-name\">cumin powder</span></li><li class=\"wprm-recipe-ingredient\" style=\"list-style-type: none;\"><span class=\"wprm-checkbox-container\"><input type=\"checkbox\" id=\"wprm-checkbox-4\" class=\"wprm-checkbox\" aria-label=\"&nbsp;1/2 tsp coriander powder\"><label for=\"wprm-checkbox-4\" class=\"wprm-checkbox-label\"><span class=\"sr-only screen-reader-text wprm-screen-reader-text\">▢ </span></label></span><span class=\"wprm-recipe-ingredient-amount\">1/2</span> <span class=\"wprm-recipe-ingredient-unit\">tsp</span> <span class=\"wprm-recipe-ingredient-name\">coriander powder</span></li><li class=\"wprm-recipe-ingredient\" style=\"list-style-type: none;\"><span class=\"wprm-checkbox-container\"><input type=\"checkbox\" id=\"wprm-checkbox-5\" class=\"wprm-checkbox\" aria-label=\"&nbsp;1/2 tsp paprika powder\"><label for=\"wprm-checkbox-5\" class=\"wprm-checkbox-label\"><span class=\"sr-only screen-reader-text wprm-screen-reader-text\">▢ </span></label></span><span class=\"wprm-recipe-ingredient-amount\">1/2</span> <span class=\"wprm-recipe-ingredient-unit\">tsp</span> <span class=\"wprm-recipe-ingredient-name\">paprika powder</span></li><li class=\"wprm-recipe-ingredient\" style=\"list-style-type: none;\"><span class=\"wprm-checkbox-container\"><input type=\"checkbox\" id=\"wprm-checkbox-6\" class=\"wprm-checkbox\" aria-label=\"&nbsp;1/8 tsp cinnamon powder\"><label for=\"wprm-checkbox-6\" class=\"wprm-checkbox-label\"><span class=\"sr-only screen-reader-text wprm-screen-reader-text\">▢ </span></label></span><span class=\"wprm-recipe-ingredient-amount\">1/8</span> <span class=\"wprm-recipe-ingredient-unit\">tsp</span> <span class=\"wprm-recipe-ingredient-name\">cinnamon powder</span></li><li class=\"wprm-recipe-ingredient\" style=\"list-style-type: none;\"><span class=\"wprm-checkbox-container\"><input type=\"checkbox\" id=\"wprm-checkbox-7\" class=\"wprm-checkbox\" aria-label=\"&nbsp;1/4 tsp black pepper\"><label for=\"wprm-checkbox-7\" class=\"wprm-checkbox-label\"><span class=\"sr-only screen-reader-text wprm-screen-reader-text\">▢ </span></label></span><span class=\"wprm-recipe-ingredient-amount\">1/4</span> <span class=\"wprm-recipe-ingredient-unit\">tsp</span> <span class=\"wprm-recipe-ingredient-name\">black pepper</span></li><li class=\"wprm-recipe-ingredient\" style=\"list-style-type: none;\"><span class=\"wprm-checkbox-container\"><input type=\"checkbox\" id=\"wprm-checkbox-8\" class=\"wprm-checkbox\" aria-label=\"&nbsp;1 tsp salt\"><label for=\"wprm-checkbox-8\" class=\"wprm-checkbox-label\"><span class=\"sr-only screen-reader-text wprm-screen-reader-text\">▢ </span></label></span><span class=\"wprm-recipe-ingredient-amount\">1</span> <span class=\"wprm-recipe-ingredient-unit\">tsp</span> <span class=\"wprm-recipe-ingredient-name\">salt</span></li></ul></div>"
   ]
  },
  {
   "cell_type": "code",
   "execution_count": 88,
   "id": "03a0b834",
   "metadata": {},
   "outputs": [
    {
     "data": {
      "text/plain": [
       "<div class=\"mb-8\"><ul class=\"font-serif leading-7 text-fok-navy-500\"><li class=\"mb-2.5 text-base lg:text-lg\"><span>1 cup unsweetened, unflavored plant milk</span></li><li class=\"mb-2.5 text-base lg:text-lg\"><span>15 pitted dates</span></li><li class=\"mb-2.5 text-base lg:text-lg\"><span>2 cups cooked brown rice</span></li><li class=\"mb-2.5 text-base lg:text-lg\"><span>1 teaspoon pure vanilla extract</span></li><li class=\"mb-2.5 text-base lg:text-lg\"><span>2 cups mixed fresh berries</span></li><li class=\"mb-2.5 text-base lg:text-lg\"><span>1 cup Easy Oil-Free Granola or purchased oil-free granola</span></li></ul></div>"
      ]
     },
     "execution_count": 88,
     "metadata": {},
     "output_type": "execute_result"
    }
   ],
   "source": [
    "soup.find('div', 'mb-8')"
   ]
  },
  {
   "cell_type": "markdown",
   "id": "b661ce0d",
   "metadata": {},
   "source": [
    "Finding and bringing in the Instruction information"
   ]
  },
  {
   "cell_type": "code",
   "execution_count": 120,
   "id": "bea41e77",
   "metadata": {},
   "outputs": [
    {
     "name": "stdout",
     "output_type": "stream",
     "text": [
      "https://www.forksoverknives.com/recipes//recipes/vegan-breakfast/vegan-chilaquiles/\n"
     ]
    },
    {
     "ename": "AttributeError",
     "evalue": "'NoneType' object has no attribute 'find_all'",
     "output_type": "error",
     "traceback": [
      "\u001b[1;31m---------------------------------------------------------------------------\u001b[0m",
      "\u001b[1;31mAttributeError\u001b[0m                            Traceback (most recent call last)",
      "\u001b[1;32m<ipython-input-120-3d057092f9a0>\u001b[0m in \u001b[0;36m<module>\u001b[1;34m\u001b[0m\n\u001b[0;32m      3\u001b[0m     \u001b[0mprint\u001b[0m\u001b[1;33m(\u001b[0m\u001b[0murl\u001b[0m\u001b[1;33m)\u001b[0m\u001b[1;33m\u001b[0m\u001b[1;33m\u001b[0m\u001b[0m\n\u001b[0;32m      4\u001b[0m     \u001b[0msoup\u001b[0m \u001b[1;33m=\u001b[0m \u001b[0mmake_soup\u001b[0m\u001b[1;33m(\u001b[0m\u001b[0murl\u001b[0m\u001b[1;33m)\u001b[0m\u001b[1;33m\u001b[0m\u001b[1;33m\u001b[0m\u001b[0m\n\u001b[1;32m----> 5\u001b[1;33m     \u001b[0mprint\u001b[0m\u001b[1;33m(\u001b[0m\u001b[1;33m[\u001b[0m\u001b[0mli\u001b[0m\u001b[1;33m.\u001b[0m\u001b[0mtext\u001b[0m \u001b[1;32mfor\u001b[0m \u001b[0mli\u001b[0m \u001b[1;32min\u001b[0m \u001b[0msoup\u001b[0m\u001b[1;33m.\u001b[0m\u001b[0mfind\u001b[0m\u001b[1;33m(\u001b[0m\u001b[1;34m'ul'\u001b[0m\u001b[1;33m,\u001b[0m \u001b[1;34m'font-serif leading-7 text-fok-navy-500 list-decimal text-lg'\u001b[0m\u001b[1;33m)\u001b[0m\u001b[1;33m.\u001b[0m\u001b[0mfind\u001b[0m\u001b[1;33m(\u001b[0m\u001b[1;34m'ol'\u001b[0m\u001b[1;33m)\u001b[0m\u001b[1;33m.\u001b[0m\u001b[0mfind_all\u001b[0m\u001b[1;33m(\u001b[0m\u001b[1;34m'li'\u001b[0m\u001b[1;33m)\u001b[0m\u001b[1;33m]\u001b[0m\u001b[1;33m)\u001b[0m\u001b[1;33m\u001b[0m\u001b[1;33m\u001b[0m\u001b[0m\n\u001b[0m",
      "\u001b[1;31mAttributeError\u001b[0m: 'NoneType' object has no attribute 'find_all'"
     ]
    }
   ],
   "source": [
    "### Instructions\n",
    "for url in sample_urls[1:5]:\n",
    "    print(url)\n",
    "    soup = make_soup(url)\n",
    "    print([li.text for li in soup.find('ul', 'font-serif leading-7 text-fok-navy-500 list-decimal text-lg').find('ol').find_all('li')])"
   ]
  },
  {
   "cell_type": "code",
   "execution_count": 66,
   "id": "7c992ddd",
   "metadata": {},
   "outputs": [
    {
     "name": "stdout",
     "output_type": "stream",
     "text": [
      "https://www.recipetineats.com/muesli-bars-granola-bars/\n",
      "Mix Add-ins – Using a wooden spoon, mix the add-ins in a large microwaveable bowl (just in case, Note 4).\n",
      "Glue – Using a rubber spatula, mix the peanut butter and honey in a saucepan over medium heat until smooth. Once combined, turn the stove down to low. As soon as you start seeing little bubbles around the edges, cook for 5 minutes, stirring constantly scraping the base, until it is like a very thick caramel (see photos and video in post). You should be able to draw a path across the base and it holds before closing in on itself. DO NOT WALK AWAY, it will catch easily. (Note 5)\n",
      "Mix – Immediately pour it all over surface of the oats etc then mix with the wooden spoon. It takes a bit of effort but it does come together eventually. Stabbing and smearing against the wall of the bowl helps. If it gets too thick, microwave for 20 seconds on high to loosen the glue then mix (then it's a breeze!).\n",
      "Press – Put a square piece of paper over a 20cm/8\" square tin (no need to grease). Drop muesli mix in then spread right into the corners, using a combination of your hands and the wooden spoon. Firmer press = chewier muesli bars.\n",
      "Set – Refrigerate 2 hours until firm then cut into 10 bars (cut in half, then each half into 5).\n",
      "https://www.recipetineats.com/vegetable-curry/\n",
      "Heat oil in a large pot over medium high heat. Add garlic and onion, cook for 2 minutes. Add cayenne and cook until onion is translucent.\n",
      "Add Spice Mix and cook, stirring constantly, for 1 - 2 minutes until the spice is fragrant and wet. If too dry, add a tiny touch of water or oil.\n",
      "Add capsicum and zucchini, cook for 1 minute.\n",
      "Add tomato, broth, potato and cauliflower. Mix well, bring to simmer, cover, lower heat to medium.\n",
      "Simmer for 15 minutes or until potato is pretty soft, then remove lid and simmer for another 10 minutes+ until sauce is slightly thickened and potato is soft.\n",
      "Add peas, stir, cook for 2 minutes. Add coriander and spinach, stir until wilted.\n",
      "Season to taste until salt and pepper. Serve over basmati rice or plain white rice. Garnish with yoghurt and more coriander.\n",
      "https://www.recipetineats.com/italian-orzo-salad-risoni/\n",
      "Cook pasta – Bring a large pot of water to the boil. Add salt and risoni/orzo, then cook per packet directions (usually ~10 minutes). Drain in colander, rinse, shake off excess water well. Transfer to large bowl. Toss with the olive oil then let cool.\n",
      "Dressing – Shake in a jar.\n",
      "Crispy salami – Put salami in cold large non-stick pan, with no oil. Turn onto medium high – as the pan heats up, the fat will melt so it cooks in its own fat. Cook for 3 – 5 minutes, stirring regularly, until light golden. Drain on paper towels. It will crisp as it cools.\n",
      "Toss – Set aside 1/3 of the salami for topping. Put all remaining salad ingredients in with the risoni. Toss. Pour over dressing. Toss, toss, toss! \n",
      "Serve! Tumble into serving bowl. Sprinkle with remaining salami. Divide between bowls. Eat with spoon! Best eaten at room temp, not fridge cold (can taste flavours better).\n",
      "https://www.recipetineats.com/10-classic-chinese-dishes-1-amazing-sauce/\n",
      "Prepare noodles according to packet instructions. \n",
      "Heat oil in wok over high heat. Add garlic and sauté for 10 seconds, then add the chicken and sauté until just cooked and nicely browned. \n",
      "Add the cabbage and carrot, stir fry for 30 seconds, then add the Sauce and water and let it cook for 30 seconds until the Sauce starts to thicken.\n",
      "Then add the noodles and shallots and toss to coat with the sauce, then serve immediately.\n",
      "Prepare noodles according to packet instructions.\n",
      "Heat oil in wok over high heat. Add the noodles and toss to heat through and coat with the oil – about 1 minute.\n",
      "Add the Sauce, pepper and water and cook for 30 seconds until the Sauce starts to thicken.\n",
      "Add the bean sprouts and chives and stir fry to combine, about 30 seconds – they should remain crisp. Remove from heat, garnish with sesame seeds and serve immediately.\n",
      "Heat oil in wok over high heat. Add the meat and stir fry until coloured, then add the cabbage and fry until the cabbage is starting to wilt and the meat is cooked. Remove from wok and set aside.\n",
      "Add the noodles, Stir Fry Sauce and water, bring to boil and stir ocassionaly until the water reduces to become thick and a sauce consistency.\n",
      "Return the other ingredients to the wok, quickly toss to combine, season to taste with pepper and serve immediately.\n",
      "Heat oil in wok over high heat. Add garlic and sauté for 10 seconds, then add the chicken and cook until the outside of the chicken turns white (but inside is still pink).\n",
      "Add the carrots and bok choy stems and stir fry for 30 seconds, then add the sauce, chilli bean sauce and water and cook for 30 seconds to 1 minute until the sauce thickens.\n",
      "Toss in the bean sprouts and bok choy leaves, give it a quick stir then remove from heat and serve immediately.\n",
      "Heat oil in wok over high heat. Add garlic and sauté for 10 seconds, then add beef and cook until sealed and browned on the outside but not yet cooked through, about 1 minute.\n",
      "Add the Sauce and water and cook for 30 seconds to 1 minute until sauce is thickened.\n",
      "Add the snow peas and stir fry for 30 seconds just to warm through the snow peas and coat with the sauce (they should be crisp, they will continue to cook off the stove). Remove from stove and serve immediately.\n",
      "Heat oil in wok over high heat. Add the onion, capsicum/bell peppers and ginger and stir fry until starting to colour, then add the chicken.\n",
      "Cook until the chicken is browned and almost cooked through, then add the Sauce, cooking wine and water then let cook for 1 minute or so until the sauce thickens.\n",
      "Add cashew nuts and give a few quick stirs, then remove from heat and serve immediately with rice.\n",
      "Prepare the noodles according to the packet instructions.\n",
      "Heat the oil in a wok over high heat, add the garlic and stir fry for 10 seconds. Add the chicken and cook until coloured white, then add the Chinese broccoli stems.\n",
      "Once the chicken is coloured, push everything in the wok to one side, crack in the egg and scramble it. Don’t worry if it sticks to the wok and burns a bit, this adds to the char grilled flavour you want.\n",
      "Add the noodles, Sauce and water, and stir to combine all the ingredients and for the sauce to cook.\n",
      "Heat oil in wok over high heat. Add ginger and sauté for 10 seconds, then add beef and cook until sealed and browned on the outside but not yet cooked through, about 1 minute.\n",
      "Add the remaining ingredients and stir fry until the sauce is thickened. Serve immediately.\n",
      "Prepare noodles according to packet instructions.\n",
      "Heat oil in wok over high heat. Add garlic and stir fry for 10 seconds, ensuring garlic doesn’t burn.\n",
      "Add the pork and stir fry until coloured, then add the cabbage and fry until the cabbage is starting to wilt and the pork is almost cooked.\n",
      "Add the noodles, Stir Fry Sauce, Chilli Bean Sauce and water and stir fry for 30 seconds until the sauce is thickened and coating the noodles. Serve immediately.\n",
      "Prepare noodles according to packet instructions. \n",
      "Heat wok in oil over high heat, add the ginger and stir fry for 10 seconds, then add the onion. Cook onion for 30 seconds until starting to soften, then add the beef. \n",
      "When the beef is browned, add the noodles, Sauce and water and stir fry for 30 seconds or so until the sauce has thickened. Toss in the bean sprouts and quickly stir, then remove from heat. Serve immediately.\n",
      "https://www.recipetineats.com/rocky-road-recipe/\n",
      "Line a 20cm/8\" square pan with baking paper (parchment paper).\n",
      "Melt chocolate – Place chocolate and oil in a bowl. Microwave in 30 second increments, stirring in between, until melted and smooth.\n",
      "Add-ins – Stir the Add-ins into the chocolate. Pour into pan, spreading out evenly.\n",
      "Refrigerate for 3 hours or until fully cool.\n",
      "Cut – Remove from the fridge 30 minutes prior to cutting. I cut into 5 lines, then into hunks for eating or larger pieces for gifting!\n",
      "https://www.recipetineats.com/golden-gaytime-popcorn-copycat/\n",
      "Popcorn\n",
      "Test oil – Heat oil in a large pot over medium heat. Add a few pieces of popcorn and wait until it pops, then quickly remove.\n",
      "Pop – Add remaining popcorn, elevate off stove to shake and spread corn out evenly. Cover with a lid. Once the popcorn starts popping in earnest, shake the pot gently once. Then crack the lid a tiny bit – let's steam escape for crisper popcorn.\n",
      "Remove from heat when the popping stops (when you can count to 3 between pops) and transfer to a (very!) large bowl.\n",
      "Caramel:\n",
      "Preheat oven to 110°C/230°F (both fan and standard ovens).\n",
      "Combine – Melt butter in a saucepan over medium heat. Add sugar, corn syrup and salt. Stir until just combined.\n",
      "Simmer – When it starts to bubble, simmer for 4 minutes – DO NOT STIR!\n",
      "Baking soda \"foamy\" – Remove from heat then quickly whisk in caramel (toffee or vanilla) and baking soda. When you stop whisking, the caramel will foam and increase in volume.\n",
      "Coat popcorn – Quickly pour straight over popcorn, toss until caramel cools and starts to harden.\n",
      "Baking to crisp caramel coating:\n",
      "Spread popcorn on 2 large paper lined baking trays.\n",
      "Bake for 45 minutes, tossing every 10 minutes or so. Caramel will remelt for the first 2-3 tosses – tossing coats popcorn more evenly with caramel. (If using glucose, bake further 15 minutes).\n",
      "Cool – Remove from oven, leave to cool on the tray for 20 minutes. Then break up the popcorn – no need to be too pedantic, clumps are great!\n",
      "Drizzle and crumbs\n",
      "Crumbs – Place biscuits in a ziplock bag and bash into crumbs. \n",
      "Melt chocolate – Place chocolate in a heatproof bowl and microwave in 30 second increments on high, stirring in between, until melted and smooth – about 1 1/2 minutes. (If doing a small amount of white chocolate, reduce to 20 second increments).\n",
      "Piping bags – Transfer chocolate into a piping bag. Use scissors to snip a small opening at the tip. (Alternative: just drizzle with a spoon).\n",
      "Drizzle & crumb – Push the popcorn together but in a single layer. Drizzle criss-cross (or any pattern!) all over the popcorn. Sprinkle with biscuits crumbs while the chocolate is wet so it sticks.\n",
      "Fridge – Refrigerate for 15 minutes until the chocolate is firm. Gently break popcorn into pieces. EAT!\n",
      "Store in an airtight container in a cool place. Stays crisp for at least a week. Our test batches never lasted any longer!\n",
      "https://www.recipetineats.com/christmas-trifle/\n",
      "Cut cake into 2 cm / 0.8\" cubes. Cover bottom of 3.5 L / 3.5 qt trifle dish with cake (might not use all) and sprinkle with liquor or juice. \n",
      "Optional extra: Scatter over 1/2 to 1 punnet halved strawberries (this is not in ingredients list).\n",
      "Cranberry Jelly:\n",
      "Heat half juice – Put half the cranberry juice into a saucepan over medium heat (3 cups / 750ml). Bring to a simmer, then turn off stove.\n",
      "Dissolve geatline – Meanwhile, put remaining room temperature cranberry juice into a very large bowl. Sprinkle gelatine all across surface (don't dump in one place, else you get lumps). Whisk until mostly dissolved (will finish dissolving in next step).\n",
      "Pour in hot cranberry juice. Whisk until gelatin is fully dissolved. \n",
      "Jelly Layer 1:\n",
      "Pour HALF the warm jelly liquid carefully down the side of the trifle dish so the cake pieces are submerged. Refrigerate the trifle dish uncovered for 1.5 hours until it is partly set. It needs to be set enough so you can gently place a strawberry on it and it will stay on the surface. Proceed to Custard Layer steps.\n",
      "Pour remaining warm jelly in a bowl and leave on the counter. DO NOT refrigerate.\n",
      "Meanwhile, make the custard so it is ready to use (see below for how to make).\n",
      "Custard Layer:\n",
      "Remove trifle from fridge. Whisk the room temperature custard to loosen. Spoon onto the jelly, smooth surface, press against wall of glass to seal (stops jelly bleed so you get neat layers). Refrigerate uncovered for 1 hour until the surface has firmed up a bit – just enough to hold the jelly (jelly is soft, so custard doesn't need to be fully set). \n",
      "Partially set remaining jelly \n",
      "Give the remaining jelly a good whisk then put it in the fridge at the same time to thicken a bit but not fully set. Refrigerate for 1 hour, but check at 30 minutes to ensure it isn't setting too fast. The jelly should be sloppy but spoonable, scoops up in a small mound. If it fully sets, you'll end up with a \"broken glass\" effect on the next jelly layer rather than a clear layer (read Note 5). \n",
      "Jelly Layer 2:\n",
      "Remove trifle and jelly from fridge. Jelly should be sloppy. Carefully spoon over jelly, smooth surface. Scatter over 1 punnet halved strawberries (or half each raspberries and strawberries). Refrigerate for 3 hours+ (can leave in fridge for 48 hours, until ready to assemble).\n",
      "Assembling:\n",
      "Cream: Beat cream, sugar and vanilla until softly whipped.\n",
      "Once jelly is set, just before serving, top with cream, then pile over remaining berries. Dust with icing sugar. \n",
      "Serve!! PS It is imperative to ensure every servings includes a bit of every layer in the trifle 😂\n",
      "Homemade Custard:\n",
      "Bring milk, ¼ cup sugar and vanilla to a simmer in a large saucepan over medium heat. Do not boil.\n",
      "In a large bowl, whisk together remaining ¼ cup sugar and yolks, then whisk in cornflour until smooth.\n",
      "While whisking, carefully pour in about ½ cup of milk mixture. Once mixed in, slowly pour in remaining milk while whisking. Once incorporated and smooth, pour back into saucepan.\n",
      "Return saucepan to stove over low heat. Whisk constantly until it becomes thick and custardy – this will happen quite quickly, about 45 seconds (ie it is liquidy when you start, then suddenly it thickens). Once thickened, remove immediately from heat (it will continue to thicken as it cools).\n",
      "Immediately pour into a bowl and cover with cling wrap, pressing onto surface. Leave on the counter to cool to room temp until trifle is ready to layer with custard. Makes 750ml. (Note 5)\n",
      "https://www.recipetineats.com/homemade-cream-chicken-soup/\n"
     ]
    },
    {
     "name": "stdout",
     "output_type": "stream",
     "text": [
      "Heat oil in a large pot over medium high heat. Add onion and garlic and cook for 2 minutes until partly translucent but not browned.\n",
      "Add carrots, celery and capsicum, cook for 1 minute to soften.\n",
      "Add butter and melt. Then add flour and mix until incorporated, and stir constantly for 1 minute.\n",
      "Add broth, mix until flour is incorporated, then add milk. Mix to combine, then add salt, Spices, chicken and peas.\n",
      "Bring to simmer, mixing occasionally to stop bottom of sticking. As it heats, it will thicken – about 4 to 5 minutes. Don’t let it bubble.\n",
      "Once thickened to your taste, adjust salt and pepper. Ladle into bowls and serve garnished with croutons and fresh thyme if desired.\n",
      "Croutons: Spray croutons generously with oil, sprinkle with salt, then bake for 5 minutes at 180C/350F or until golden and crunchy.\n",
      "https://www.recipetineats.com/italian-sausage-quiche/\n",
      "Preheat oven to 180C/350F.\n",
      "Lightly spray a 9\"/23cm quiche flan or pie dish with oil.\n",
      "Line with the pastry, trimming the excess. Use the extra 1/2 sheet to fill in any gaps as 1 sheet of pastry is slightly too small for a standard flan. Press to seal well.\n",
      "Cover pastry with parchment (baking) paper, then fill with raw rice or dried beans to weigh it down.\n",
      "Place in the oven and bake for 20 minutes, then remove parchment paper and rice/beans. Return to the oven for a further 10 minutes until golden. Remove from oven.\n",
      "Prepare Filling\n",
      "Heat oil in a fry pan over high heat. Add the garlic and onions and sauté for 2 minutes. Then add the sausage and cook, using a spatula to break it up into pieces. Cook until the sausage is browned, then remove the pan from the stove (sausage can stay in the pan).\n",
      "Whisk the eggs, milk, herbs, salt and pepper in a bowl until combined.\n",
      "Assemble And Bake Quiche\n",
      "Scatter half the cheese in the pie crust, then most of the sausage mixture. Pour over the egg mixture, top with remaining cheese and sausage. Then gently place the cherry tomatoes on the surface (cut side down).\n",
      "Carefully transfer to the oven. Bake for 40 minutes until golden brown on top and the filling has set.\n",
      "Remove from the oven and let rest for 10 minutes before serving.\n",
      "https://www.recipetineats.com/charlottes-hazelnut-olive-oil-cake/\n",
      "Preheat oven to 170°C / 340°F (150°C fan). Grease a 20 cm/8\" springform pan with olive oil then line with baking paper (parchment paper), then grease the paper. (Note 6)\n",
      "Dry ingredients: In a medium bowl, mix the hazelnut meal, baking soda, lemon and salt.\n",
      "Beat wet ingredients: In a large bowl, beat the olive oil, eggs and sugar for 2 to 3 minutes on speed 7 of a handheld beater or until it becomes pale and thick (like pouring cream).\n",
      "Add vanilla and beat on speed 1 for 10 seconds.\n",
      "Mix in dry: Add the Dry ingredients and mix in gently using a rubber spatula.\n",
      "Bake 45 minutes: Pour the batter into the prepared pan and bake for 45 minutes. It will puff up dramatically in the oven but it collapses as it cools.\n",
      "Cool: Remove from the oven and allow the cake to fully cool in the pan before releasing from the springform pan. This is a rustic cake that has higher edges and a flatter centre. Perfect proportions, I say: plenty of meringue-like edges and not an overwhelming amount of the rich brownie-like centre of the cake!\n",
      "Decorate: Sprinkle with hazelnuts and dust with icing sugar, if desired. Serve fully cool.\n",
      "https://www.recipetineats.com/thai-cashew-chicken-stir-fry/\n",
      "Sauce: Mix all the Sauce ingredients in a small bowl.\n",
      "Cook cashews: Heat oil over medium heat in a wok or large skillet. Add cashews and cook for 5 minutes until they become a dark golden colour and crunchy (yep, you might have to eat one to check!). Remove from skillet with a slotted spoon.\n",
      "Garlic & onion: Turn heat up to high. Add garlic and onion. Cook for 30 seconds.\n",
      "Chicken: Add chicken. Cook for 1 minute until the outside changes from pink to white.\n",
      "White part of green onion & chilli: Add white part of green onions and chilli. Cook for 1 minute until chicken is just cooked through.\n",
      "Add Sauce: Cook for 1 minute until it reduces down to a syrup, coating the chicken nicely.\n",
      "Green onion & cashews: Add green part of green onions and cashews. Toss for 30 seconds.\n",
      "Serve: Transfer to serving dish. Serve with jasmine rice, or other rice of choice, garnished with extra red chilli (if you can handle the heat!).\n",
      "https://www.recipetineats.com/homemade-frozen-pizzas/\n",
      "Sauce:\n",
      "Heat olive oil in a large saucepan over medium heat. Add garlic and cook for 1 minute until fragrant. Add remaining ingredients, stir, and adjust heat so it is simmering gently (about medium heat). Cook down for 40 minutes, then puree with a stick (or cool a bit then transfer to blender). \n",
      "COOL before using (hot sauce = soggy base). (Note 4)\n",
      "Pizzas:\n",
      "Top a flatbread with 2.5 tbsp of Sauce. Sprinkle a tiny amount of cheese over the base, avoiding the very edges (glue for toppings - see video).\n",
      "Sprinkle over onion, capsicum, salami, olives, mushrooms then cheese. Repeat with remaining flatbreads.\n",
      "Stack them using paper in between each pizza. Wrap in groups of 3 or so (whatever you are comfortable handling). Transfer to a large airtight container or ziplock bag and freeze.\n",
      "Baking:\n",
      "Remove oven shelf from oven and clean.\n",
      "Preheat oven to 240C/460F (standard) / 220C / 430F (fan/convection).\n",
      "Place frozen (or unfrozen freshly made) pizza directly on shelf. Bake for 10 minutes or until golden on the edges and the base is crispy.\n",
      "Cut and serve immediately!\n",
      "https://www.recipetineats.com/celeriac-soup/\n",
      "Spice and herb sachet: Bundle the bay leaf, thyme, black peppercorns and coriander seeds loosely in a small piece of cheesecloth to create a sachet. Tie with cooking twine to secure.\n",
      "Cook onion and leek: Melt butter in large pot over medium-low heat. Add onion, leek, celery and garlic. Cook for 10 minutes until onion is soft but not golden. Don't rush this part – this creates an important flavour base so we can make this soup using water not stock.\n",
      "Cook celeriac and potato: Add celeriac and potato. Cook for 10 minutes, stirring regularly, until the outside of the celeriac and potato starts to soften. Be careful to not colour the celeriac – we're going for a white soup here!\n",
      "Simmer 25 minutes: Add salt, pepper, Spice and Herb Sachet, and water. Bring to a boil, then turn down to a simmer. Simmer for 25 minutes (no lid) until celeriac is very soft.\n",
      "Cream: Add cream, simmer for another 3 minutes.\n",
      "Blitz: Remove Sachet, then blitz until fully smooth using your method of choice: Stick blender (~ 3 mins), or cool slightly and do in a blender in batches (Note 5)\n",
      "Adjust seasoning: Adjust salt and pepper to taste.\n",
      "Serving: Ladle into bowls. Sprinkle with croutons and chives, drizzle with olive oil. Serve with crusty bread for dunking!\n"
     ]
    }
   ],
   "source": [
    "for url in sample_urls[1:50]:\n",
    "    if url.startswith(base_url):\n",
    "        print(url)\n",
    "        soup = make_soup(url)    \n",
    "        try:\n",
    "            instruction_groups = soup.find_all('div', class_='wprm-recipe-instruction-group')\n",
    "            if instruction_groups:\n",
    "                for instruction_group in instruction_groups:\n",
    "                    ul_elements = instruction_group.find_all('ul')\n",
    "                    for ul_element in ul_elements:\n",
    "                        # Check if ul_element has a preceding h4 element\n",
    "                        h4_element = ul_element.find_previous_sibling('h4')\n",
    "                        if h4_element:\n",
    "                            print(h4_element.text)\n",
    "                        li_items = ul_element.find_all('li')\n",
    "                        for li_item in li_items:\n",
    "                            print(li_item.text)\n",
    "            else:\n",
    "                print(\"No instruction groups found\")\n",
    "        except Exception as e:\n",
    "            print(f\"Error processing URL {url}: {e}\")\n",
    "            continue  # Skip to the next iteration if an error occurs"
   ]
  },
  {
   "cell_type": "code",
   "execution_count": 62,
   "id": "f8b4e463",
   "metadata": {},
   "outputs": [
    {
     "data": {
      "text/plain": [
       "[<div class=\"wprm-recipe-instruction-group\"><ul class=\"wprm-recipe-instructions\"><li class=\"wprm-recipe-instruction\" id=\"wprm-recipe-59250-step-0-0\" style=\"list-style-type: decimal;\"><div class=\"wprm-recipe-instruction-text\"><span style=\"display: block;\"><strong>Spice and herb sachet: </strong>Bundle the bay leaf, thyme, black peppercorns and coriander seeds loosely in a small piece of cheesecloth to create a sachet. Tie with cooking twine to secure.</span></div></li><li class=\"wprm-recipe-instruction\" id=\"wprm-recipe-59250-step-0-1\" style=\"list-style-type: decimal;\"><div class=\"wprm-recipe-instruction-text\"><span style=\"display: block;\"><strong>Cook onion and leek: </strong>Melt butter in large pot over medium-low heat. Add onion, leek, celery and garlic. Cook for 10 minutes until onion is soft but not golden. Don't rush this part – this creates an important flavour base so we can make this soup using water not stock.</span></div></li><li class=\"wprm-recipe-instruction\" id=\"wprm-recipe-59250-step-0-2\" style=\"list-style-type: decimal;\"><div class=\"wprm-recipe-instruction-text\"><span style=\"display: block;\"><strong>Cook celeriac and potato: </strong>Add celeriac and potato. Cook for 10 minutes, stirring regularly, until the outside of the celeriac and potato starts to soften. Be careful to not colour the celeriac – we're going for a white soup here!</span></div></li><li class=\"wprm-recipe-instruction\" id=\"wprm-recipe-59250-step-0-3\" style=\"list-style-type: decimal;\"><div class=\"wprm-recipe-instruction-text\"><span style=\"display: block;\"><strong>Simmer 25 minutes: </strong>Add salt, pepper, Spice and Herb Sachet, and water. Bring to a boil, then turn down to a simmer. Simmer for 25 minutes (no lid) until celeriac is very soft.</span></div></li><li class=\"wprm-recipe-instruction\" id=\"wprm-recipe-59250-step-0-4\" style=\"list-style-type: decimal;\"><div class=\"wprm-recipe-instruction-text\"><span style=\"display: block;\"><strong>Cream:</strong> Add cream, simmer for another 3 minutes.</span></div></li><li class=\"wprm-recipe-instruction\" id=\"wprm-recipe-59250-step-0-5\" style=\"list-style-type: decimal;\"><div class=\"wprm-recipe-instruction-text\"><span style=\"display: block;\"><strong>Blitz: </strong>Remove Sachet, then blitz until fully smooth using your method of choice: Stick blender (~ 3 mins), or cool slightly and do in a blender in batches (Note 5)</span></div></li><li class=\"wprm-recipe-instruction\" id=\"wprm-recipe-59250-step-0-6\" style=\"list-style-type: decimal;\"><div class=\"wprm-recipe-instruction-text\"><span style=\"display: block;\"><strong>Adjust seasoning: </strong>Adjust salt and pepper to taste.</span></div></li><li class=\"wprm-recipe-instruction\" id=\"wprm-recipe-59250-step-0-7\" style=\"list-style-type: decimal;\"><div class=\"wprm-recipe-instruction-text\"><span style=\"display: block;\"><strong>Serving: </strong>Ladle into bowls. Sprinkle with croutons and chives, drizzle with olive oil. Serve with crusty bread for dunking!</span></div></li></ul></div>]"
      ]
     },
     "execution_count": 62,
     "metadata": {},
     "output_type": "execute_result"
    }
   ],
   "source": [
    "soup.find_all('div', class_='wprm-recipe-instruction-group')"
   ]
  },
  {
   "cell_type": "code",
   "execution_count": 52,
   "id": "b9681eeb",
   "metadata": {},
   "outputs": [
    {
     "name": "stdout",
     "output_type": "stream",
     "text": [
      "https://www.recipetineats.com/muesli-bars-granola-bars/\n",
      "['Mix Add-ins – Using a wooden spoon, mix the add-ins in a large microwaveable bowl (just in case, Note 4).', 'Glue – Using a rubber spatula, mix the peanut butter and honey in a saucepan over medium heat until smooth. Once combined, turn the stove down to low. As soon as you start seeing little bubbles around the edges, cook for 5 minutes, stirring constantly scraping the base, until it is like a very thick caramel (see photos and video in post). You should be able to draw a path across the base and it holds before closing in on itself. DO NOT WALK AWAY, it will catch easily. (Note 5)', \"Mix – Immediately pour it all over surface of the oats etc then mix with the wooden spoon. It takes a bit of effort but it does come together eventually. Stabbing and smearing against the wall of the bowl helps. If it gets too thick, microwave for 20 seconds on high to loosen the glue then mix (then it's a breeze!).\", 'Press – Put a square piece of paper over a 20cm/8\" square tin (no need to grease). Drop muesli mix in then spread right into the corners, using a combination of your hands and the wooden spoon. Firmer press = chewier muesli bars.', 'Set – Refrigerate 2 hours until firm then cut into 10 bars (cut in half, then each half into 5).']\n",
      "https://www.recipetineats.com/vegetable-curry/\n",
      "['Heat oil in a large pot over medium high heat. Add garlic and onion, cook for 2 minutes. Add cayenne and cook until onion is translucent.', 'Add Spice Mix and cook, stirring constantly, for 1 - 2 minutes until the spice is fragrant and wet. If too dry, add a tiny touch of water or oil.', 'Add capsicum and zucchini, cook for 1 minute.', 'Add tomato, broth, potato and cauliflower. Mix well, bring to simmer, cover, lower heat to medium.', 'Simmer for 15 minutes or until potato is pretty soft, then remove lid and simmer for another 10 minutes+ until sauce is slightly thickened and potato is soft.', 'Add peas, stir, cook for 2 minutes. Add coriander and spinach, stir until wilted.', 'Season to taste until salt and pepper. Serve over basmati rice or plain white rice. Garnish with yoghurt and more coriander.']\n",
      "https://www.recipetineats.com/italian-orzo-salad-risoni/\n",
      "['Cook pasta – Bring a large pot of water to the boil. Add salt and risoni/orzo, then cook per packet directions (usually ~10 minutes). Drain in colander, rinse, shake off excess water well. Transfer to large bowl. Toss with the olive oil then let cool.', 'Dressing – Shake in a jar.', 'Crispy salami – Put salami in cold large non-stick pan, with no oil. Turn onto medium high – as the pan heats up, the fat will melt so it cooks in its own fat. Cook for 3 – 5 minutes, stirring regularly, until light golden. Drain on paper towels. It will crisp as it cools.', 'Toss – Set aside 1/3 of the salami for topping. Put all remaining salad ingredients in with the risoni. Toss. Pour over dressing. Toss, toss, toss! ', 'Serve! Tumble into serving bowl. Sprinkle with remaining salami. Divide between bowls. Eat with spoon! Best eaten at room temp, not fridge cold (can taste flavours better).']\n",
      "https://www.recipetineats.com/10-classic-chinese-dishes-1-amazing-sauce/\n",
      "['Prepare noodles according to packet instructions.\\xa0', 'Heat oil in wok over high heat. Add garlic and sauté for 10 seconds, then add the chicken and sauté until just cooked and nicely browned.\\xa0', 'Add the cabbage and carrot, stir fry for 30 seconds, then add the Sauce and water and let it cook for 30 seconds until the Sauce starts to thicken.', 'Then add the noodles and shallots and toss to coat with the sauce, then serve immediately.']\n",
      "https://www.recipetineats.com/rocky-road-recipe/\n",
      "['Line a 20cm/8\" square pan with baking paper (parchment paper).', 'Melt chocolate – Place chocolate and oil in a bowl. Microwave in 30 second increments, stirring in between, until melted and smooth.', 'Add-ins – Stir the Add-ins into the chocolate. Pour into pan, spreading out evenly.', 'Refrigerate for 3 hours or until fully cool.', 'Cut – Remove from the fridge 30 minutes prior to cutting. I cut into 5 lines, then into hunks for eating or larger pieces for gifting!']\n",
      "https://www.recipetineats.com/golden-gaytime-popcorn-copycat/\n",
      "['Test oil – Heat oil in a large pot over medium heat. Add a few pieces of popcorn and wait until it pops, then quickly remove.', \"Pop – Add remaining popcorn, elevate off stove to shake and spread corn out evenly. Cover with a lid. Once the popcorn starts popping in earnest, shake the pot gently once. Then crack the lid a tiny bit – let's steam escape for crisper popcorn.\", 'Remove from heat when the popping stops (when you can count to 3 between pops) and transfer to a (very!) large bowl.']\n",
      "https://www.recipetineats.com/christmas-trifle/\n",
      "['Cut cake into 2 cm / 0.8\" cubes. Cover bottom of 3.5 L / 3.5 qt trifle dish with cake (might not use all) and sprinkle with liquor or juice.\\xa0', 'Optional extra: Scatter over 1/2 to 1 punnet halved strawberries (this is not in ingredients list).']\n",
      "https://www.recipetineats.com/homemade-cream-chicken-soup/\n",
      "['Heat oil in a large pot over medium high heat. Add onion and garlic and cook for 2 minutes until partly translucent but not browned.', 'Add carrots, celery and capsicum, cook for 1 minute to soften.', 'Add butter and melt. Then add flour and mix until incorporated, and stir constantly for 1 minute.', 'Add broth, mix until flour is incorporated, then add milk. Mix to combine, then add salt, Spices, chicken and peas.', 'Bring to simmer, mixing occasionally to stop bottom of sticking. As it heats, it will thicken – about 4 to 5 minutes. Don’t let it bubble.', 'Once thickened to your taste, adjust salt and pepper. Ladle into bowls and serve garnished with croutons and fresh thyme if desired.', 'Croutons: Spray croutons generously with oil, sprinkle with salt, then bake for 5 minutes at 180C/350F or until golden and crunchy.']\n",
      "https://www.recipetineats.com/italian-sausage-quiche/\n",
      "['Preheat oven to 180C/350F.', 'Lightly spray a 9\"/23cm quiche flan or pie dish with oil.', 'Line with the pastry, trimming the excess. Use the extra 1/2 sheet to fill in any gaps as 1 sheet of pastry is slightly too small for a standard flan. Press to seal well.', 'Cover pastry with parchment (baking) paper, then fill with raw rice or dried beans to weigh it down.', 'Place in the oven and bake for 20 minutes, then remove parchment paper and rice/beans. Return to the oven for a further 10 minutes until golden. Remove from oven.']\n",
      "https://www.recipetineats.com/charlottes-hazelnut-olive-oil-cake/\n",
      "['Preheat oven to 170°C / 340°F (150°C fan). Grease a 20 cm/8\" springform pan with olive oil then line with baking paper (parchment paper), then grease the paper. (Note 6)', 'Dry ingredients: In a medium bowl, mix the hazelnut meal, baking soda, lemon and salt.', 'Beat wet ingredients: In a large bowl, beat the olive oil, eggs and sugar for 2 to 3 minutes on speed 7 of a handheld beater or until it becomes pale and thick (like pouring cream).', 'Add vanilla and beat on speed 1 for 10 seconds.', 'Mix in dry: Add the Dry ingredients and mix in gently using a rubber spatula.', 'Bake 45 minutes: Pour the batter into the prepared pan and bake for 45 minutes. It will puff up dramatically in the oven but it collapses as it cools.', 'Cool: Remove from the oven and allow the cake to fully cool in the pan before releasing from the springform pan. This is a rustic cake that has higher edges and a flatter centre. Perfect proportions, I say: plenty of meringue-like edges and not an overwhelming amount of the rich brownie-like centre of the cake!', 'Decorate: Sprinkle with hazelnuts and dust with icing sugar, if desired. Serve fully cool.']\n",
      "https://www.recipetineats.com/thai-cashew-chicken-stir-fry/\n",
      "['Sauce: Mix all the Sauce ingredients in a small bowl.', 'Cook cashews: Heat oil over medium heat in a wok or large skillet. Add cashews and cook for 5 minutes until they become a dark golden colour and crunchy (yep, you might have to eat one to check!). Remove from skillet with a slotted spoon.', 'Garlic & onion: Turn heat up to high. Add garlic and onion. Cook for 30 seconds.', 'Chicken: Add chicken. Cook for 1 minute until the outside changes from pink to white.', 'White part of green onion & chilli: Add white part of green onions and chilli. Cook for 1 minute until chicken is just cooked through.', 'Add Sauce: Cook for 1 minute until it reduces down to a syrup, coating the chicken nicely.', 'Green onion & cashews: Add green part of green onions and cashews. Toss for 30 seconds.', 'Serve: Transfer to serving dish. Serve with jasmine rice, or other rice of choice, garnished with extra red chilli (if you can handle the heat!).']\n"
     ]
    },
    {
     "name": "stdout",
     "output_type": "stream",
     "text": [
      "https://www.recipetineats.com/homemade-frozen-pizzas/\n",
      "['Heat olive oil in a large saucepan over medium heat. Add garlic and cook for 1 minute until fragrant. Add remaining ingredients, stir, and adjust heat so it is simmering gently (about medium heat). Cook down for 40 minutes, then puree with a stick (or cool a bit then transfer to blender).\\xa0', 'COOL before using (hot sauce = soggy base). (Note 4)']\n",
      "https://www.recipetineats.com/celeriac-soup/\n",
      "['Spice and herb sachet: Bundle the bay leaf, thyme, black peppercorns and coriander seeds loosely in a small piece of cheesecloth to create a sachet. Tie with cooking twine to secure.', \"Cook onion and leek: Melt butter in large pot over medium-low heat. Add onion, leek, celery and garlic. Cook for 10 minutes until onion is soft but not golden. Don't rush this part – this creates an important flavour base so we can make this soup using water not stock.\", \"Cook celeriac and potato: Add celeriac and potato. Cook for 10 minutes, stirring regularly, until the outside of the celeriac and potato starts to soften. Be careful to not colour the celeriac – we're going for a white soup here!\", 'Simmer 25 minutes: Add salt, pepper, Spice and Herb Sachet, and water. Bring to a boil, then turn down to a simmer. Simmer for 25 minutes (no lid) until celeriac is very soft.', 'Cream: Add cream, simmer for another 3 minutes.', 'Blitz: Remove Sachet, then blitz until fully smooth using your method of choice: Stick blender (~ 3 mins), or cool slightly and do in a blender in batches (Note 5)', 'Adjust seasoning: Adjust salt and pepper to taste.', 'Serving: Ladle into bowls. Sprinkle with croutons and chives, drizzle with olive oil. Serve with crusty bread for dunking!']\n"
     ]
    }
   ],
   "source": [
    "for url in sample_urls:\n",
    "    if url.startswith(base_url):\n",
    "        soup = make_soup(url)\n",
    "        print(url)\n",
    "        print([li.text for li in soup.find('ul', 'wprm-recipe-instructions').find_all('li')])"
   ]
  },
  {
   "cell_type": "code",
   "execution_count": null,
   "id": "1f3291c6",
   "metadata": {},
   "outputs": [],
   "source": [
    "<ul class=\"wprm-recipe-instructions\"><li id=\"wprm-recipe-22417-step-0-0\" class=\"wprm-recipe-instruction\" style=\"list-style-type: decimal;\"><div class=\"wprm-recipe-instruction-text\">Heat oil in a large pot over medium high heat. Add garlic and onion, cook for 2 minutes. Add cayenne and cook until onion is translucent.</div></li><li id=\"wprm-recipe-22417-step-0-1\" class=\"wprm-recipe-instruction\" style=\"list-style-type: decimal;\"><div class=\"wprm-recipe-instruction-text\">Add Spice Mix and cook, stirring constantly, for 1 - 2 minutes until the spice is fragrant and wet. If too dry, add a tiny touch of water or oil.</div></li><li id=\"wprm-recipe-22417-step-0-2\" class=\"wprm-recipe-instruction\" style=\"list-style-type: decimal;\"><div class=\"wprm-recipe-instruction-text\">Add capsicum and zucchini, cook for 1 minute.</div></li><li id=\"wprm-recipe-22417-step-0-3\" class=\"wprm-recipe-instruction\" style=\"list-style-type: decimal;\"><div class=\"wprm-recipe-instruction-text\">Add tomato, broth, potato and cauliflower. Mix well, bring to simmer, cover, lower heat to medium.</div></li><li id=\"wprm-recipe-22417-step-0-4\" class=\"wprm-recipe-instruction\" style=\"list-style-type: decimal;\"><div class=\"wprm-recipe-instruction-text\"><span style=\"display: block;\">Simmer for 15 minutes or until potato is pretty soft, then remove lid and simmer for another 10 minutes+ until sauce is slightly thickened and potato is soft.</span></div></li><li id=\"wprm-recipe-22417-step-0-5\" class=\"wprm-recipe-instruction\" style=\"list-style-type: decimal;\"><div class=\"wprm-recipe-instruction-text\">Add peas, stir, cook for 2 minutes. Add coriander and spinach, stir until wilted.</div></li><li id=\"wprm-recipe-22417-step-0-6\" class=\"wprm-recipe-instruction\" style=\"list-style-type: decimal;\"><div class=\"wprm-recipe-instruction-text\"><span style=\"display: block;\">Season to taste until salt and pepper. Serve over <a href=\"https://www.recipetineats.com/how-to-cook-basmati-rice/\">basmati rice</a> or <a href=\"https://www.recipetineats.com/how-to-cook-rice/\">plain white rice</a>. Garnish with yoghurt and more coriander.</span></div></li></ul>"
   ]
  },
  {
   "cell_type": "markdown",
   "id": "827969b6",
   "metadata": {},
   "source": [
    "Finding and bringing in the Tag information"
   ]
  },
  {
   "cell_type": "code",
   "execution_count": 70,
   "id": "dd5b19a2",
   "metadata": {},
   "outputs": [
    {
     "name": "stdout",
     "output_type": "stream",
     "text": [
      "https://www.recipetineats.com/muesli-bars-granola-bars/\n",
      "['Keywords: ', 'granola bars, muesli bars']\n",
      "https://www.recipetineats.com/vegetable-curry/\n",
      "no\n",
      "https://www.recipetineats.com/italian-orzo-salad-risoni/\n",
      "['Keywords: ', 'chicken pasta salad, orzo salad, risoni salad']\n",
      "https://www.recipetineats.com/10-classic-chinese-dishes-1-amazing-sauce/\n",
      "no\n",
      "https://www.recipetineats.com/rocky-road-recipe/\n",
      "['Keywords: ', 'rocky road, rocky road recipe']\n",
      "https://www.recipetineats.com/golden-gaytime-popcorn-copycat/\n",
      "['Keywords: ', 'caramel corn, Caramel popcorn, food gift ideas, golden gaytime popcorn']\n",
      "https://www.recipetineats.com/christmas-trifle/\n",
      "['Keywords: ', 'Christmas dessert, christmas trifle, trifle']\n",
      "https://www.recipetineats.com/homemade-cream-chicken-soup/\n",
      "['Keywords: ', 'Cream of chicken soup']\n",
      "https://www.recipetineats.com/italian-sausage-quiche/\n",
      "no\n",
      "https://www.recipetineats.com/charlottes-hazelnut-olive-oil-cake/\n",
      "['Keywords: ', 'dairy free cake, Gluten Free Cake, olive oil cake']\n",
      "https://www.recipetineats.com/thai-cashew-chicken-stir-fry/\n",
      "['Keywords: ', 'Thai Cashew Chicken, Thai chicken stir fry']\n",
      "https://www.recipetineats.com/homemade-frozen-pizzas/\n",
      "['Keywords: ', 'Homemade frozen pizza']\n",
      "https://www.recipetineats.com/celeriac-soup/\n",
      "['Keywords: ', 'Celeriac soup']\n"
     ]
    }
   ],
   "source": [
    "### Tags\n",
    "for url in sample_urls[1:50]:\n",
    "    if url.startswith(base_url):\n",
    "        print(url)\n",
    "        soup = make_soup(url)\n",
    "        try:\n",
    "            print([li.text for li in soup.find('div', 'wprm-recipe-block-container wprm-recipe-block-container-separate wprm-block-text-normal wprm-recipe-tag-container wprm-recipe-keyword-container').find_all('span')])\n",
    "        except:\n",
    "            print('no')"
   ]
  },
  {
   "cell_type": "code",
   "execution_count": null,
   "id": "550cdedd",
   "metadata": {},
   "outputs": [],
   "source": [
    "<div class=\"wprm-recipe-block-container wprm-recipe-block-container-separate wprm-block-text-normal wprm-recipe-tag-container wprm-recipe-keyword-container\" style=\"\"><span class=\"wprm-recipe-details-label wprm-block-text-normal wprm-recipe-tag-label wprm-recipe-keyword-label\">Keywords: </span><span class=\"wprm-recipe-keyword wprm-block-text-normal\">Homemade frozen pizza</span></div>"
   ]
  },
  {
   "cell_type": "code",
   "execution_count": 105,
   "id": "a188285b",
   "metadata": {},
   "outputs": [
    {
     "data": {
      "text/plain": [
       "[<li class=\"mr-3 flex w-full items-center text-13px tracking-wide lg:w-auto\"><i class=\"icon-time mr-2 text-21px text-fok-teal-600 lg:text-[27px]\"></i><span><span>Prep-time:<!-- --> <time datetime=\"PT10M\">10 MINUTES</time> <!-- -->/<!-- --> </span><span>Ready In:<!-- --> <time datetime=\"PT30M\">30 MINUTES</time></span></span></li>,\n",
       " <li class=\"mr-3 flex w-full items-center tracking-wide lg:w-auto\"><i class=\"icon-serving mr-2 text-21px text-fok-teal-600 lg:text-[27px]\"></i><span>Makes 4 artichokes</span></li>,\n",
       " <li class=\"mr-3 flex w-full items-center tracking-wide lg:w-auto\"><a class=\"popup-print print-recipe-link flex items-center font-sans text-[13px] uppercase !text-black hover:!text-fok-teal-500\" href=\"#\"><i class=\"icon-print text mr-2 text-21px text-fok-teal-600 lg:text-[27px]\"></i><span>Print/save recipe</span></a></li>]"
      ]
     },
     "execution_count": 105,
     "metadata": {},
     "output_type": "execute_result"
    }
   ],
   "source": [
    "soup = make_soup(sample_urls[3])\n",
    "soup.find('div','box-post-control mb-6').find_all('li')"
   ]
  },
  {
   "cell_type": "code",
   "execution_count": null,
   "id": "818f7564",
   "metadata": {},
   "outputs": [],
   "source": [
    "<div class=\"box-post-control mb-6\"><ul class=\"add-info my-0 flex flex-col gap-2.5 !pl-0 font-sans text-[13px] uppercase text-black lg:flex-row\"><li class=\"mr-3 flex w-full items-center text-13px tracking-wide lg:w-auto\"><i class=\"icon-time mr-2 text-21px text-fok-teal-600 lg:text-[27px]\"></i><span><span>Prep-time:<!-- --> <time datetime=\"PT30M\">30 MINUTES</time> <!-- -->/<!-- --> </span><span>Ready In:<!-- --> <time datetime=\"PT40M\">40 MINUTES</time></span></span></li><li class=\"mr-3 flex w-full items-center tracking-wide lg:w-auto\"><i class=\"icon-serving mr-2 text-21px text-fok-teal-600 lg:text-[27px]\"></i><span>Makes 7½ cups</span></li><li class=\"mr-3 flex w-full items-center tracking-wide lg:w-auto\"><a class=\"popup-print print-recipe-link flex items-center font-sans text-[13px] uppercase !text-black hover:!text-fok-teal-500\" href=\"#\"><i class=\"icon-print text mr-2 text-21px text-fok-teal-600 lg:text-[27px]\"></i><span>Print/save recipe</span></a></li></ul></div>"
   ]
  },
  {
   "cell_type": "markdown",
   "id": "468f9cad",
   "metadata": {},
   "source": [
    "Finding and bringing in the Ready In, Prep Time, Cook Time"
   ]
  },
  {
   "cell_type": "code",
   "execution_count": 83,
   "id": "a88435ea",
   "metadata": {},
   "outputs": [
    {
     "ename": "AttributeError",
     "evalue": "'NoneType' object has no attribute 'find'",
     "output_type": "error",
     "traceback": [
      "\u001b[1;31m---------------------------------------------------------------------------\u001b[0m",
      "\u001b[1;31mAttributeError\u001b[0m                            Traceback (most recent call last)",
      "\u001b[1;32m<ipython-input-83-5542ec0931e4>\u001b[0m in \u001b[0;36m<module>\u001b[1;34m\u001b[0m\n\u001b[1;32m----> 1\u001b[1;33m \u001b[1;33m[\u001b[0m\u001b[0mspan\u001b[0m\u001b[1;33m.\u001b[0m\u001b[0mtext\u001b[0m \u001b[1;32mfor\u001b[0m \u001b[0mspan\u001b[0m \u001b[1;32min\u001b[0m \u001b[0msoup\u001b[0m\u001b[1;33m.\u001b[0m\u001b[0mfind\u001b[0m\u001b[1;33m(\u001b[0m\u001b[1;34m'div'\u001b[0m\u001b[1;33m,\u001b[0m\u001b[1;34m'wprm-recipe-block-container wprm-recipe-block-container-separate wprm-block-text-normal wprm-recipe-time-container wprm-recipe-prep-time-container'\u001b[0m\u001b[1;33m)\u001b[0m\u001b[1;33m.\u001b[0m\u001b[0mfind\u001b[0m\u001b[1;33m(\u001b[0m\u001b[1;34m'span'\u001b[0m\u001b[1;33m)\u001b[0m\u001b[1;33m]\u001b[0m\u001b[1;33m\u001b[0m\u001b[1;33m\u001b[0m\u001b[0m\n\u001b[0m",
      "\u001b[1;31mAttributeError\u001b[0m: 'NoneType' object has no attribute 'find'"
     ]
    }
   ],
   "source": [
    "[span.text for span in soup.find('div','wprm-recipe-block-container wprm-recipe-block-container-separate wprm-block-text-normal wprm-recipe-time-container wprm-recipe-prep-time-container').find('span')]"
   ]
  },
  {
   "cell_type": "code",
   "execution_count": null,
   "id": "a3d3536d",
   "metadata": {},
   "outputs": [],
   "source": [
    "<div class=\"wprm-recipe-block-container wprm-recipe-block-container-separate wprm-block-text-normal wprm-recipe-time-container wprm-recipe-prep-time-container\" style=\"\"><span class=\"wprm-recipe-details-label wprm-block-text-bold wprm-recipe-time-label wprm-recipe-prep-time-label\"><svg class=\"svg-inline--fa fa-clock fa-w-16\" aria-hidden=\"true\" data-prefix=\"fas\" data-icon=\"clock\" role=\"img\" xmlns=\"http://www.w3.org/2000/svg\" viewBox=\"0 0 512 512\" data-fa-i2svg=\"\"><path fill=\"currentColor\" d=\"M256 8C119 8 8 119 8 256s111 248 248 248 248-111 248-248S393 8 256 8zm57.1 350.1L224.9 294c-3.1-2.3-4.9-5.9-4.9-9.7V116c0-6.6 5.4-12 12-12h48c6.6 0 12 5.4 12 12v137.7l63.5 46.2c5.4 3.9 6.5 11.4 2.6 16.8l-28.2 38.8c-3.9 5.3-11.4 6.5-16.8 2.6z\"></path></svg> Prep: </span><span class=\"wprm-recipe-time wprm-block-text-normal\"><span class=\"wprm-recipe-details wprm-recipe-details-minutes wprm-recipe-prep_time wprm-recipe-prep_time-minutes\">20<span class=\"sr-only screen-reader-text wprm-screen-reader-text\"> minutes</span></span> <span class=\"wprm-recipe-details-unit wprm-recipe-details-minutes wprm-recipe-prep_time-unit wprm-recipe-prep_timeunit-minutes\" aria-hidden=\"true\">mins</span></span></div>"
   ]
  },
  {
   "cell_type": "code",
   "execution_count": null,
   "id": "9b20c407",
   "metadata": {},
   "outputs": [],
   "source": []
  },
  {
   "cell_type": "code",
   "execution_count": 104,
   "id": "29406290",
   "metadata": {},
   "outputs": [
    {
     "name": "stdout",
     "output_type": "stream",
     "text": [
      "https://www.recipetineats.com/muesli-bars-granola-bars/\n",
      " Prep: : 15 minutes mins\n",
      " Cook: : 5 minutes mins\n",
      "https://www.recipetineats.com/vegetable-curry/\n",
      " Prep: : 15 minutes mins\n",
      " Cook: : 25 minutes mins\n",
      " Total: : 40 minutes mins\n",
      "https://www.recipetineats.com/italian-orzo-salad-risoni/\n",
      " Prep: : 15 minutes mins\n",
      " Cook: : 15 minutes mins\n",
      "https://www.recipetineats.com/rocky-road-recipe/\n",
      " Prep: : 15 minutes mins\n",
      " Total: : 3 hours hrs 15 minutes mins\n"
     ]
    }
   ],
   "source": [
    "for url in sample_urls[1:15]:\n",
    "    if url.startswith(base_url):\n",
    "        soup = make_soup(url)\n",
    "        spans = soup.find('div', 'wprm-entry-info').find_all('span')\n",
    "        for i in range(len(spans) - 1):\n",
    "            span = spans[i]\n",
    "            next_span = spans[i + 1]\n",
    "            if \"Total\" in span.text:\n",
    "                print(f\"{span.text}: {next_span.text}\")\n",
    "            elif \"Prep\" in span.text:\n",
    "                print(url)\n",
    "                print(f\"{span.text}: {next_span.text}\")\n",
    "            elif \"Cook:\" in span.text:\n",
    "                print(f\"{span.text}: {next_span.text}\")"
   ]
  },
  {
   "cell_type": "code",
   "execution_count": 84,
   "id": "2d049eac",
   "metadata": {},
   "outputs": [
    {
     "name": "stdout",
     "output_type": "stream",
     "text": [
      " Prep: \n",
      " Cook: \n",
      " Prep: \n",
      " Cook: \n",
      " Total: \n",
      " Prep: \n",
      " Cook: \n",
      " Prep: \n",
      " Total: \n"
     ]
    }
   ],
   "source": [
    "base_url = \"https://www.recipetineats.com/\"\n",
    "for url in sample_urls[1:15]:\n",
    "    if url.startswith(base_url):\n",
    "        soup = make_soup(url)\n",
    "        spans = soup.find('div','wprm-entry-info').find_all('span')\n",
    "        for span in spans[1:]:\n",
    "            if \"Total\" in span.text:\n",
    "                print(span.text)\n",
    "            elif \"Prep\" in span.text:\n",
    "                print(span.text)\n",
    "            elif \"Cook:\" in span.text:\n",
    "                print(span.text)\n"
   ]
  },
  {
   "cell_type": "code",
   "execution_count": 111,
   "id": "178287b5",
   "metadata": {},
   "outputs": [],
   "source": [
    "test = \"https://www.forksoverknives.com/recipes/vegan-breakfast/vegan-chilaquiles/\""
   ]
  },
  {
   "cell_type": "code",
   "execution_count": 112,
   "id": "bd1144ba",
   "metadata": {},
   "outputs": [],
   "source": [
    "soup = make_soup(test)"
   ]
  },
  {
   "cell_type": "code",
   "execution_count": 113,
   "id": "ee33f1bd",
   "metadata": {},
   "outputs": [
    {
     "ename": "UnicodeEncodeError",
     "evalue": "'charmap' codec can't encode character '\\u2193' in position 56751: character maps to <undefined>",
     "output_type": "error",
     "traceback": [
      "\u001b[1;31m---------------------------------------------------------------------------\u001b[0m",
      "\u001b[1;31mUnicodeEncodeError\u001b[0m                        Traceback (most recent call last)",
      "\u001b[1;32m<ipython-input-113-db8c7395e5db>\u001b[0m in \u001b[0;36m<module>\u001b[1;34m\u001b[0m\n\u001b[0;32m      1\u001b[0m \u001b[1;32mwith\u001b[0m \u001b[0mopen\u001b[0m\u001b[1;33m(\u001b[0m\u001b[1;34m'testhtml.html'\u001b[0m\u001b[1;33m,\u001b[0m \u001b[1;34m'w+'\u001b[0m\u001b[1;33m)\u001b[0m \u001b[1;32mas\u001b[0m \u001b[0mf\u001b[0m\u001b[1;33m:\u001b[0m\u001b[1;33m\u001b[0m\u001b[1;33m\u001b[0m\u001b[0m\n\u001b[1;32m----> 2\u001b[1;33m     \u001b[0mf\u001b[0m\u001b[1;33m.\u001b[0m\u001b[0mwrite\u001b[0m\u001b[1;33m(\u001b[0m\u001b[0msoup\u001b[0m\u001b[1;33m.\u001b[0m\u001b[0mprettify\u001b[0m\u001b[1;33m(\u001b[0m\u001b[1;33m)\u001b[0m\u001b[1;33m)\u001b[0m\u001b[1;33m\u001b[0m\u001b[1;33m\u001b[0m\u001b[0m\n\u001b[0m",
      "\u001b[1;32m~\\anaconda3\\lib\\encodings\\cp1252.py\u001b[0m in \u001b[0;36mencode\u001b[1;34m(self, input, final)\u001b[0m\n\u001b[0;32m     17\u001b[0m \u001b[1;32mclass\u001b[0m \u001b[0mIncrementalEncoder\u001b[0m\u001b[1;33m(\u001b[0m\u001b[0mcodecs\u001b[0m\u001b[1;33m.\u001b[0m\u001b[0mIncrementalEncoder\u001b[0m\u001b[1;33m)\u001b[0m\u001b[1;33m:\u001b[0m\u001b[1;33m\u001b[0m\u001b[1;33m\u001b[0m\u001b[0m\n\u001b[0;32m     18\u001b[0m     \u001b[1;32mdef\u001b[0m \u001b[0mencode\u001b[0m\u001b[1;33m(\u001b[0m\u001b[0mself\u001b[0m\u001b[1;33m,\u001b[0m \u001b[0minput\u001b[0m\u001b[1;33m,\u001b[0m \u001b[0mfinal\u001b[0m\u001b[1;33m=\u001b[0m\u001b[1;32mFalse\u001b[0m\u001b[1;33m)\u001b[0m\u001b[1;33m:\u001b[0m\u001b[1;33m\u001b[0m\u001b[1;33m\u001b[0m\u001b[0m\n\u001b[1;32m---> 19\u001b[1;33m         \u001b[1;32mreturn\u001b[0m \u001b[0mcodecs\u001b[0m\u001b[1;33m.\u001b[0m\u001b[0mcharmap_encode\u001b[0m\u001b[1;33m(\u001b[0m\u001b[0minput\u001b[0m\u001b[1;33m,\u001b[0m\u001b[0mself\u001b[0m\u001b[1;33m.\u001b[0m\u001b[0merrors\u001b[0m\u001b[1;33m,\u001b[0m\u001b[0mencoding_table\u001b[0m\u001b[1;33m)\u001b[0m\u001b[1;33m[\u001b[0m\u001b[1;36m0\u001b[0m\u001b[1;33m]\u001b[0m\u001b[1;33m\u001b[0m\u001b[1;33m\u001b[0m\u001b[0m\n\u001b[0m\u001b[0;32m     20\u001b[0m \u001b[1;33m\u001b[0m\u001b[0m\n\u001b[0;32m     21\u001b[0m \u001b[1;32mclass\u001b[0m \u001b[0mIncrementalDecoder\u001b[0m\u001b[1;33m(\u001b[0m\u001b[0mcodecs\u001b[0m\u001b[1;33m.\u001b[0m\u001b[0mIncrementalDecoder\u001b[0m\u001b[1;33m)\u001b[0m\u001b[1;33m:\u001b[0m\u001b[1;33m\u001b[0m\u001b[1;33m\u001b[0m\u001b[0m\n",
      "\u001b[1;31mUnicodeEncodeError\u001b[0m: 'charmap' codec can't encode character '\\u2193' in position 56751: character maps to <undefined>"
     ]
    }
   ],
   "source": [
    "with open('testhtml.html', 'w+') as f:\n",
    "    f.write(soup.prettify())"
   ]
  }
 ],
 "metadata": {
  "kernelspec": {
   "display_name": "Python 3",
   "language": "python",
   "name": "python3"
  },
  "language_info": {
   "codemirror_mode": {
    "name": "ipython",
    "version": 3
   },
   "file_extension": ".py",
   "mimetype": "text/x-python",
   "name": "python",
   "nbconvert_exporter": "python",
   "pygments_lexer": "ipython3",
   "version": "3.8.8"
  }
 },
 "nbformat": 4,
 "nbformat_minor": 5
}

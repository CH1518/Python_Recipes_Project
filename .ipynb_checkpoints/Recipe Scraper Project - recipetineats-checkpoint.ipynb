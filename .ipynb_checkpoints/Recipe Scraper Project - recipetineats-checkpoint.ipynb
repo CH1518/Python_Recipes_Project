{
 "cells": [
  {
   "cell_type": "markdown",
   "id": "cdf4a95a",
   "metadata": {},
   "source": [
    "# Recipe Scraper Project\n",
    "This portion of the project will focus on scraping recipe details from the URL pages compiled from the URL Scraper Project. This code will bring in:\n",
    "* Recipe Author\n",
    "* Recipe Description\n",
    "* Recipe Ingredients\n",
    "* Recipe Instructions\n",
    "* Recipe Tags\n",
    "* Recipe Ready In, Prep Time, Cook Time, Yield information"
   ]
  },
  {
   "cell_type": "markdown",
   "id": "8a960e47",
   "metadata": {},
   "source": [
    "Importing libraries and database"
   ]
  },
  {
   "cell_type": "code",
   "execution_count": 1,
   "id": "60108dde",
   "metadata": {},
   "outputs": [],
   "source": [
    "import requests\n",
    "from bs4 import BeautifulSoup as bs\n",
    "headers = {\"User-Agent\" : \"Mozilla/5.0 (Windows NT 10.0; Win64; x64) AppleWebKit/537.36 (KHTML, like Gecko) Chrome/124.0.0.0 Safari/537.36\"}"
   ]
  },
  {
   "cell_type": "code",
   "execution_count": 2,
   "id": "cab7335a",
   "metadata": {},
   "outputs": [
    {
     "name": "stdout",
     "output_type": "stream",
     "text": [
      "2024-05-14 16:54:45,167 INFO sqlalchemy.engine.Engine select version()\n",
      "2024-05-14 16:54:45,169 INFO sqlalchemy.engine.Engine [raw sql] {}\n",
      "2024-05-14 16:54:45,171 INFO sqlalchemy.engine.Engine select current_schema()\n",
      "2024-05-14 16:54:45,171 INFO sqlalchemy.engine.Engine [raw sql] {}\n",
      "2024-05-14 16:54:45,172 INFO sqlalchemy.engine.Engine show standard_conforming_strings\n",
      "2024-05-14 16:54:45,173 INFO sqlalchemy.engine.Engine [raw sql] {}\n",
      "2024-05-14 16:54:45,174 INFO sqlalchemy.engine.Engine BEGIN (implicit)\n",
      "2024-05-14 16:54:45,175 INFO sqlalchemy.engine.Engine select relname from pg_class c join pg_namespace n on n.oid=c.relnamespace where pg_catalog.pg_table_is_visible(c.oid) and relname=%(name)s\n",
      "2024-05-14 16:54:45,175 INFO sqlalchemy.engine.Engine [generated in 0.00057s] {'name': 'url'}\n",
      "2024-05-14 16:54:45,179 INFO sqlalchemy.engine.Engine select relname from pg_class c join pg_namespace n on n.oid=c.relnamespace where pg_catalog.pg_table_is_visible(c.oid) and relname=%(name)s\n",
      "2024-05-14 16:54:45,179 INFO sqlalchemy.engine.Engine [cached since 0.004632s ago] {'name': 'recipe'}\n",
      "2024-05-14 16:54:45,181 INFO sqlalchemy.engine.Engine COMMIT\n"
     ]
    }
   ],
   "source": [
    "import db"
   ]
  },
  {
   "cell_type": "code",
   "execution_count": 3,
   "id": "84e2a7b8",
   "metadata": {},
   "outputs": [],
   "source": [
    "import random"
   ]
  },
  {
   "cell_type": "markdown",
   "id": "c9602fb3",
   "metadata": {},
   "source": [
    "Bringing in URLs that were imported from URL Scraper Project"
   ]
  },
  {
   "cell_type": "code",
   "execution_count": 4,
   "id": "dc924840",
   "metadata": {},
   "outputs": [
    {
     "name": "stdout",
     "output_type": "stream",
     "text": [
      "2024-05-14 16:54:47,067 INFO sqlalchemy.engine.Engine BEGIN (implicit)\n",
      "2024-05-14 16:54:47,069 INFO sqlalchemy.engine.Engine SELECT url.id AS url_id, url.url AS url_url, url.recipe_name AS url_recipe_name, url.image AS url_image, url.skip AS url_skip \n",
      "FROM url\n",
      "2024-05-14 16:54:47,071 INFO sqlalchemy.engine.Engine [generated in 0.00122s] {}\n"
     ]
    }
   ],
   "source": [
    "sample_urls = random.sample([row.url for row in db.session.query(db.URL).all()],40)"
   ]
  },
  {
   "cell_type": "code",
   "execution_count": 9,
   "id": "e37d71f3",
   "metadata": {},
   "outputs": [
    {
     "data": {
      "text/plain": [
       "'https://www.recipetineats.com/gingerbread-box-mason-jars/'"
      ]
     },
     "execution_count": 9,
     "metadata": {},
     "output_type": "execute_result"
    }
   ],
   "source": [
    "first = sample_urls[2]\n",
    "first"
   ]
  },
  {
   "cell_type": "code",
   "execution_count": 6,
   "id": "2b7b97f5",
   "metadata": {},
   "outputs": [],
   "source": [
    "def make_soup(url):\n",
    "    return bs(requests.get(url, headers = headers).text, 'html.parser')"
   ]
  },
  {
   "cell_type": "code",
   "execution_count": 7,
   "id": "f19f3f93",
   "metadata": {},
   "outputs": [],
   "source": [
    "soup = make_soup(first)"
   ]
  },
  {
   "cell_type": "markdown",
   "id": "c2d976e9",
   "metadata": {},
   "source": [
    "Finding and bringing in the Author information"
   ]
  },
  {
   "cell_type": "code",
   "execution_count": 8,
   "id": "f677876b",
   "metadata": {},
   "outputs": [
    {
     "ename": "AttributeError",
     "evalue": "'NoneType' object has no attribute 'find'",
     "output_type": "error",
     "traceback": [
      "\u001b[1;31m---------------------------------------------------------------------------\u001b[0m",
      "\u001b[1;31mAttributeError\u001b[0m                            Traceback (most recent call last)",
      "\u001b[1;32m<ipython-input-8-7c40a3fa45d0>\u001b[0m in \u001b[0;36m<module>\u001b[1;34m\u001b[0m\n\u001b[0;32m      1\u001b[0m \u001b[1;31m###Author\u001b[0m\u001b[1;33m\u001b[0m\u001b[1;33m\u001b[0m\u001b[1;33m\u001b[0m\u001b[0m\n\u001b[1;32m----> 2\u001b[1;33m \u001b[0msoup\u001b[0m\u001b[1;33m.\u001b[0m\u001b[0mfind\u001b[0m\u001b[1;33m(\u001b[0m\u001b[1;34m'p'\u001b[0m\u001b[1;33m,\u001b[0m \u001b[1;34m'not-prose'\u001b[0m\u001b[1;33m)\u001b[0m\u001b[1;33m.\u001b[0m\u001b[0mfind\u001b[0m\u001b[1;33m(\u001b[0m\u001b[1;34m'a'\u001b[0m\u001b[1;33m)\u001b[0m\u001b[1;33m.\u001b[0m\u001b[0mtext\u001b[0m\u001b[1;33m\u001b[0m\u001b[1;33m\u001b[0m\u001b[0m\n\u001b[0m",
      "\u001b[1;31mAttributeError\u001b[0m: 'NoneType' object has no attribute 'find'"
     ]
    }
   ],
   "source": [
    "###Author\n",
    "soup.find('p', 'not-prose').find('a').text"
   ]
  },
  {
   "cell_type": "markdown",
   "id": "083262e2",
   "metadata": {},
   "source": [
    "Finding and bringing in the Author information"
   ]
  },
  {
   "cell_type": "code",
   "execution_count": 41,
   "id": "95dcc7b8",
   "metadata": {
    "scrolled": true
   },
   "outputs": [
    {
     "data": {
      "text/plain": [
       "'A true Indian classic, vegetable biryani is usually made on the stove top, but this simplified version makes for a great baked dish that requires less effort. Fragrant saffron, ginger, and garam masala are infused into chewy brown rice that’s layered between a medley of mixed veggies. Raisins add bursts of sweet flavor while cashews add crunch, and fresh herbs create an aromatic finish that ties everything together. Top the casserole with baked onion to enhance the savory flavors of this exquisite dish and get ready to dig into your new favorite recipe.'"
      ]
     },
     "execution_count": 41,
     "metadata": {},
     "output_type": "execute_result"
    }
   ],
   "source": [
    "###Description\n",
    "soup.find('div', 'core-paragraph').find('p').text"
   ]
  },
  {
   "cell_type": "code",
   "execution_count": 44,
   "id": "099268f3",
   "metadata": {
    "scrolled": true
   },
   "outputs": [
    {
     "name": "stdout",
     "output_type": "stream",
     "text": [
      "https://www.forksoverknives.com/recipes//recipes/vegan-breakfast/vegan-chilaquiles/\n",
      "Ellen Boeke\n",
      "Chilaquiles originated as a way to use leftover tortillas the morning after a big meal, but this taco-inspired version would be perfect at any time of day. Here, crispy tortilla chips are smothered in a tangy homemade salsa and topped with hearty quinoa infused with the smoky, spicy flavors of Southwest seasoning. Creamy black beans add extra substance while fresh cilantro and scallions dial up the herbal aromas of this mouthwatering dish. Feel free to top with a drizzle of your favorite hot sauce, and dig in!\n",
      "https://www.forksoverknives.com/recipes//recipes/amazing-grains/baked-vegetable-biryani/\n",
      "Darshana Thacker Wendel\n",
      "A true Indian classic, vegetable biryani is usually made on the stove top, but this simplified version makes for a great baked dish that requires less effort. Fragrant saffron, ginger, and garam masala are infused into chewy brown rice that’s layered between a medley of mixed veggies. Raisins add bursts of sweet flavor while cashews add crunch, and fresh herbs create an aromatic finish that ties everything together. Top the casserole with baked onion to enhance the savory flavors of this exquisite dish and get ready to dig into your new favorite recipe.\n",
      "https://www.forksoverknives.com/recipes//recipes/vegan-salads-sides/instant-pot-artichokes-with-lemony-vegan-aioli/\n",
      "Ellen Boeke\n",
      "Not sure how to steam a whole artichoke? An electric multicooker such as the Instant Pot turns this delicate task into a walk in the park. With this recipe, we show you how to cook artichokes to tender perfection in the Instant Pot and how to serve and eat them. We’ve also paired the steamed veggie delicacy with a lemony vegan aïoli dipping sauce to provide a kick of bright acidity that complements the rich artichoke flesh. Enjoy these Instant Pot artichokes as an appetizer or side dish when you’re serving up a vegan Mediterranean-inspired dinner!\n",
      "https://www.forksoverknives.com/recipes//recipes/amazing-grains/wild-mushroom-and-asparagus-risotto/\n",
      "Nancy Macklin, RDN\n",
      "Umami-rich mushrooms and earthy asparagus are the dream team when it comes to risotto. Here, we combine these two powerhouse veggies with fragrant garlic, bright lemon juice, and herbaceous dill to create rich flavor in this classic Italian rice dish. Wholesome, fiber-rich brown rice replaces traditional Arborio and soaks up a savory combination of veggie stock and white wine until every grain becomes deliciously tender. The end result is a skillet full of creamy, veggie-packed rice that will satisfy your belly and soothe your soul. Add a sprinkling of cheesy nutritional yeast for the perfect finishing touch, and then dig in!\n",
      "https://www.forksoverknives.com/recipes//recipes/vegan-snacks-appetizers/air-fried-southwest-spring-rolls/\n",
      "Ellen Boeke\n",
      "Sink your teeth into a creative combination of Southwest taco flavors wrapped up in the form of a spring roll. Mushrooms, chickpeas, and walnuts are finely chopped in a food processor and seasoned with a blend of smoky spices and herbs to create a savory plant-based chorizo that serves as the base of each roll. Smashed pinto beans, cilantro, scallions, and fresno chile are layered into each rice paper wrapper before everything is wrapped up like a baby burrito and toasted to crispy perfection in the air fryer. Serve with a side of salsa for dipping, and prepare to take your taste buds on a wildly delicious journey! If you want to switch it up, you can also try these spring rolls fresh and unfried.\n",
      "https://www.forksoverknives.com/recipes//recipes/vegan-desserts/sweet-potato-rosette-tart/\n",
      "Ellen Boeke\n",
      "This stunning sweet potato tart uses two different types of tubers to achieve the scrumptious end result. Orange sweet potatoes are mashed with zesty orange juice and warming pumpkin pie spice to create a custard-like filling, while steamed purple sweet potato petals are placed in an eye-catching rosette pattern and topped with crushed almonds. (Steaming the purple potatoes separately and adding them after baking ensures the best texture and color.) The nutty oat and almond crust contrasts nicely with the earthy sweetness of the tart filling, and you can top each slice with Aquafaba Whipped Cream if you want an extra dose of decadence. Serve up this jaw-dropping dessert when you want to impress guests and end your evening on a sweet note!\n",
      "https://www.forksoverknives.com/recipes//recipes/vegan-soups-stews/butternut-bisque-with-parsley-pistou/\n",
      "Ellen Boeke\n",
      "Silky smooth, packed full of flavor, and topped with a French-inspired variation on pesto, this butternut squash bisque is what soup dreams are made of. The orange-hued base features sautéed onions, garlic, and thyme to create a rich bisque where every slurp tastes like a spoonful of liquid gold. The secret to producing the perfect velvety texture is to add a can of creamy butter beans into the mix and puree everything with an immersion blender. Once spooned into bowls, a drizzle of pepita and parsley pistou—a sauce that normally features basil and olive oil—is ideal for swirling into the soup. Serve this butternut bisque with a side of crusty whole grain bread for an extra hearty meal. \n",
      "https://www.forksoverknives.com/recipes//recipes/vegan-snacks-appetizers/pinto-bean-spread/\n",
      "Lois Ellen Frank, PhD, and Walter Whitewater\n",
      "The following recipe is adapted from Seed to Plate, Soil to Sky: Modern Plant-Based Recipes Using Native American Ingredients by Lois Ellen Frank with culinary adviser Walter Whitewater. Read our Q&A with chefs Frank and Whitewater here.\n",
      "https://www.forksoverknives.com/recipes//recipes/vegan-snacks-appetizers/fresh-spinach-hummus/\n",
      "Darshana Thacker Wendel\n",
      "Perfectly fluffy and a dreamy shade of green, this delicious spinach hummus combines classic hummus ingredients with the earthy goodness of fresh spinach to create a scrumptious spread that’s picturesque enough to serve as an appetizer at your next party while still being kid-friendly. The secret to getting a light and fluffy texture is to add a few ice cubes when blending—a handy trick to keep in mind for other hummus recipes! Serve this stunning oil-free spinach hummus as a dip with pita squares, crackers, or crudités. It’s also excellent as a fresh, flavorful spread on sandwiches or wraps. \n",
      "https://www.forksoverknives.com/recipes//recipes/vegan-salads-sides/layered-black-rice-salad/\n",
      "Nancy Macklin, RDN\n",
      "Be prepared for an abundance of “oohs” and “aahs” when you present this multicolor black rice salad at your next dinner party. The chewy rice creates eye-catching bands of deep purple grains that are stacked between crunchy carrots, tangy red onion, hearty edamame, and aromatic herbs. A zesty lime and soy dressing seeps down among the layers to create an Asian-inspired flavor profile that will leave you licking your plate. This recipe is ideal for a light but filling lunch, or as a starting course paired with a denser noodle dish when you’re ready for a full-on feast. While black rice gives this salad a particularly striking appearance, you can substitute brown rice or wild rice if you like.\n",
      "https://www.forksoverknives.com/recipes//recipes/vegan-burgers-wraps/grilled-summer-veggie-wraps/\n",
      "Nancy Macklin, RDN\n",
      "If you thought lettuce cups weren’t filling enough to be served as a main course, think again: These hearty veggie wraps feature a satisfying medley of char-grilled eggplant, bell pepper, and zucchini. While the colorful veggies are enough to make you salivate, the real star of the show is chickpeas, which get a triple appearance in this scrumptious dish. Each lettuce leaf is slathered in creamy hummus before being piled high with toppings, while whole chickpeas are tossed into the veggie mix and aquafaba (chickpea liquid) emulsifies the smoky citrus dressing. Romaine leaves are sturdy enough to act as edible flatware and add a satisfying crunch to each bite. When you want a veg-forward meal to fill a rumbling tummy, fire up the grill and whip up a batch of these wonderful wraps to satisfy your cravings.\n",
      "https://www.forksoverknives.com/recipes//recipes/vegan-pasta-noodles/fajita-pasta-salad/\n",
      "Ellen Boeke\n",
      "Red lentil noodles give extra color to this festive pasta salad, which borrows its zesty flavors from fajitas, a Tex-Mex dish of grilled veggies, savory spices, and fresh herbs served on warm tortillas. Sweet corn, bell peppers, poblano chiles, and onions are grilled to tender perfection and sliced into fajita-style strips before joining the pasta. A spicy lime vinaigrette is drizzled over the eye-catching jumble to pack each forkful with powerful flavors, while pinto beans and juicy tomatoes are added for extra substance. After divvying up the pasta salad into bowls, top each portion with slices of creamy avocado and crunchy pepitas to get the full Southwestern experience.\n"
     ]
    },
    {
     "name": "stdout",
     "output_type": "stream",
     "text": [
      "https://www.forksoverknives.com/recipes//recipes/vegan-sauces-condiments/mixed-berry-jam-with-chia-seeds/\n",
      "Nancy Macklin, RDN\n",
      "Preserve juicy summer produce with this simple berry jam recipe that’s free from refined sugars. A delectable combination of strawberries, blackberries, and raspberries are stewed with maple syrup and cinnamon sticks for a fruity medley with a hint of a warming spices. Chia seeds contribute fiber to the jam and help bind it together without using traditional thickening agents so you get the purest, most delicious end result possible! Serve with whole grain toast, nice cream, smoothies, corn bread, pancakes, or over a bowl of fresh fruit.\n",
      "https://www.forksoverknives.com/recipes//recipes/vegan-breakfast/granola-parfaits-with-berries-and-brown-rice-pudding/\n",
      "Darshana Thacker Wendel\n",
      "Dates, plant milk, and a splash of vanilla transform leftover brown rice into a mouthwateringly creamy rice pudding. Layers of juicy fresh berries and chewy oil-free granola add color and textural variety to these vibrant breakfast pudding parfaits. Healthy and delicious, these banded beauties make a great everyday breakfast and are perfect for a festive brunch. \n"
     ]
    }
   ],
   "source": [
    "for url in sample_urls[1:15]:\n",
    "    soup = make_soup(url)\n",
    "    print(url)\n",
    "    print(soup.find('p', 'not-prose').find('a').text)\n",
    "    print(soup.find('div', 'core-paragraph').find('p').text)"
   ]
  },
  {
   "cell_type": "code",
   "execution_count": null,
   "id": "ab123ab4",
   "metadata": {},
   "outputs": [],
   "source": [
    "<div class=\"flex items-center gap-5 md:gap-y-3 gap-x-1 md:gap-x-1\"><p class=\"not-prose\">By <a class=\"text-fok-teal-600 hover:text-fok-teal-500\" href=\"/contributors/94104/\">Shelli McConnell</a>,</p><time class=\"text-fok-navy-500\">Jun 1, 2021</time></div>"
   ]
  },
  {
   "cell_type": "code",
   "execution_count": 45,
   "id": "98fc1699",
   "metadata": {},
   "outputs": [],
   "source": [
    "test_p = soup.find('div', 'core-paragraph').find('p')"
   ]
  },
  {
   "cell_type": "code",
   "execution_count": 49,
   "id": "951433bb",
   "metadata": {},
   "outputs": [
    {
     "data": {
      "text/plain": [
       "365"
      ]
     },
     "execution_count": 49,
     "metadata": {},
     "output_type": "execute_result"
    }
   ],
   "source": [
    "len(test_p.text)"
   ]
  },
  {
   "cell_type": "code",
   "execution_count": 48,
   "id": "18ea5af9",
   "metadata": {},
   "outputs": [
    {
     "data": {
      "text/plain": [
       "<p>Dates, plant milk, and a splash of vanilla transform leftover brown rice into a mouthwateringly creamy rice pudding. Layers of juicy fresh berries and chewy <a href=\"https://www.forksoverknives.com/how-tos/the-best-low-fat-low-sugar-granola-recipe-5-flavor-variations/\">oil-free granola</a> add color and textural variety to these vibrant breakfast pudding parfaits. Healthy and delicious, these banded beauties make a great everyday breakfast and are perfect for a festive brunch. </p>"
      ]
     },
     "execution_count": 48,
     "metadata": {},
     "output_type": "execute_result"
    }
   ],
   "source": [
    "test_p"
   ]
  },
  {
   "cell_type": "code",
   "execution_count": 77,
   "id": "0080b04f",
   "metadata": {},
   "outputs": [],
   "source": [
    "def description_helper(soup):\n",
    "    description = ''\n",
    "    div_tags = soup.find_all('div', class_='core-paragraph')\n",
    "    for div_tag in div_tags:\n",
    "        p_tags = div_tag.find_all('p')\n",
    "        for p_tag in p_tags:\n",
    "            if len(p_tag.text) > 0 and 'not-prose' not in p_tag.find_parent().attrs['class']:\n",
    "                description += f\" {p_tag.text}\"\n",
    "    description = description.replace(\"\\n\", '').replace(\"\\xa0\", '').strip()\n",
    "    return description"
   ]
  },
  {
   "cell_type": "code",
   "execution_count": 78,
   "id": "f2be6112",
   "metadata": {
    "scrolled": true
   },
   "outputs": [
    {
     "name": "stdout",
     "output_type": "stream",
     "text": [
      "https://www.forksoverknives.com/recipes//recipes/amazing-grains/vegan-polenta-recipes-to-fall-in-love-with/\n",
      "\n",
      "https://www.forksoverknives.com/recipes//recipes/vegan-breakfast/vegan-chilaquiles/\n",
      "Chilaquiles originated as a way to use leftover tortillas the morning after a big meal, but this taco-inspired version would be perfect at any time of day. Here, crispy tortilla chips are smothered in a tangy homemade salsa and topped with hearty quinoa infused with the smoky, spicy flavors of Southwest seasoning. Creamy black beans add extra substance while fresh cilantro and scallions dial up the herbal aromas of this mouthwatering dish. Feel free to top with a drizzle of your favorite hot sauce, and dig in! For more vegan Mexican-inspired breakfast recipes, check out these tasty ideas:\n",
      "https://www.forksoverknives.com/recipes//recipes/amazing-grains/baked-vegetable-biryani/\n",
      "A true Indian classic, vegetable biryani is usually made on the stove top, but this simplified version makes for a great baked dish that requires less effort. Fragrant saffron, ginger, and garam masala are infused into chewy brown rice that’s layered between a medley of mixed veggies. Raisins add bursts of sweet flavor while cashews add crunch, and fresh herbs create an aromatic finish that ties everything together. Top the casserole with baked onion to enhance the savory flavors of this exquisite dish and get ready to dig into your new favorite recipe. For more vegan Indian recipes, check out these tasty ideas:\n",
      "https://www.forksoverknives.com/recipes//recipes/vegan-salads-sides/instant-pot-artichokes-with-lemony-vegan-aioli/\n",
      "Not sure how to steam a whole artichoke? An electric multicooker such as the Instant Pot turns this delicate task into a walk in the park. With this recipe, we show you how to cook artichokes to tender perfection in the Instant Pot and how to serve and eat them. We’ve also paired the steamed veggie delicacy with a lemony vegan aïoli dipping sauce to provide a kick of bright acidity that complements the rich artichoke flesh. Enjoy these Instant Pot artichokes as an appetizer or side dish when you’re serving up a vegan Mediterranean-inspired dinner! For more inspiration, check out these tasty ideas:\n",
      "https://www.forksoverknives.com/recipes//recipes/amazing-grains/wild-mushroom-and-asparagus-risotto/\n",
      "Umami-rich mushrooms and earthy asparagus are the dream team when it comes to risotto. Here, we combine these two powerhouse veggies with fragrant garlic, bright lemon juice, and herbaceous dill to create rich flavor in this classic Italian rice dish. Wholesome, fiber-rich brown rice replaces traditional Arborio and soaks up a savory combination of veggie stock and white wine until every grain becomes deliciously tender. The end result is a skillet full of creamy, veggie-packed rice that will satisfy your belly and soothe your soul. Add a sprinkling of cheesy nutritional yeast for the perfect finishing touch, and then dig in! Tip: You can save veggie scraps to make your own broth. In an airtight container in your freezer, collect scraps from fresh mushrooms, onions, carrots, celery, potatoes, red and yellow peppers, tomatoes, squash, and herbs. Once you have 8 cups of scraps, place them in a large pot, cover with water, and simmer for 2 hours or until broth is flavorful. Strain and refrigerate or freeze broth. For more inspiration, check out these tasty ideas:\n",
      "https://www.forksoverknives.com/recipes//recipes/vegan-snacks-appetizers/air-fried-southwest-spring-rolls/\n",
      "Sink your teeth into a creative combination of Southwest taco flavors wrapped up in the form of a spring roll. Mushrooms, chickpeas, and walnuts are finely chopped in a food processor and seasoned with a blend of smoky spices and herbs to create a savory plant-based chorizo that serves as the base of each roll. Smashed pinto beans, cilantro, scallions, and fresno chile are layered into each rice paper wrapper before everything is wrapped up like a baby burrito and toasted to crispy perfection in the air fryer. Serve with a side of salsa for dipping, and prepare to take your taste buds on a wildly delicious journey! If you want to switch it up, you can also try these spring rolls fresh and unfried. Tip: Choose a salsa that is on the thicker side but not too chunky or piecey; that way it will stick to the spring rolls when dipped. Note: Some chili powders are cut with wheat flour, making them unsuitable for people with gluten allergies. If gluten is a concern, make sure to check the ingredient to ensure it is pure chili powder. For more healthy air-fryer recipes, check out these tasty ideas:\n",
      "https://www.forksoverknives.com/recipes//recipes/vegan-desserts/sweet-potato-rosette-tart/\n",
      "This stunning sweet potato tart uses two different types of tubers to achieve the scrumptious end result. Orange sweet potatoes are mashed with zesty orange juice and warming pumpkin pie spice to create a custard-like filling, while steamed purple sweet potato petals are placed in an eye-catching rosette pattern and topped with crushed almonds. (Steaming the purple potatoes separately and adding them after baking ensures the best texture and color.) The nutty oat and almond crust contrasts nicely with the earthy sweetness of the tart filling, and you can top each slice with Aquafaba Whipped Cream if you want an extra dose of decadence. Serve up this jaw-dropping dessert when you want to impress guests and end your evening on a sweet note! For more vegan sweet potato desserts, check out these tasty recipes:\n",
      "https://www.forksoverknives.com/recipes//recipes/vegan-soups-stews/butternut-bisque-with-parsley-pistou/\n",
      "Silky smooth, packed full of flavor, and topped with a French-inspired variation on pesto, this butternut squash bisque is what soup dreams are made of. The orange-hued base features sautéed onions, garlic, and thyme to create a rich bisque where every slurp tastes like a spoonful of liquid gold. The secret to producing the perfect velvety texture is to add a can of creamy butter beans into the mix and puree everything with an immersion blender. Once spooned into bowls, a drizzle of pepita and parsley pistou—a sauce that normally features basil and olive oil—is ideal for swirling into the soup. Serve this butternut bisque with a side of crusty whole grain bread for an extra hearty meal. For more soup inspiration, check out these tasty ideas:\n",
      "https://www.forksoverknives.com/recipes//recipes/vegan-snacks-appetizers/pinto-bean-spread/\n",
      "The following recipe is adapted from Seed to Plate, Soil to Sky: Modern Plant-Based Recipes Using Native American Ingredients by Lois Ellen Frank with culinary adviser Walter Whitewater. Read our Q&A with chefs Frank and Whitewater here. Chef Walter grew up eating pinto beans all the time, and he loves this bean spread served on sandwiches, toast, and with freshly cut vegetables for a family gathering or celebration. I use this spread on my toast in the morning for a quick, nutritious breakfast. For an ancestral twist, try making it with brown tepary beans (S-oam Bavi), white tepary beans (S-totoah Bavi), and black tepary beans (S-chuuk Bavi). We find that blackening garlic is well worth the extra 10 minutes of prep time. It softens the flavor of raw garlic and brings an earthy quality to any dish. For more vegan spreads, check out these tasty ideas:\n",
      "https://www.forksoverknives.com/recipes//recipes/vegan-snacks-appetizers/fresh-spinach-hummus/\n",
      "Perfectly fluffy and a dreamy shade of green, this delicious spinach hummus combines classic hummus ingredients with the earthy goodness of fresh spinach to create a scrumptious spread that’s picturesque enough to serve as an appetizer at your next party while still being kid-friendly. The secret to getting a light and fluffy texture is to add a few ice cubes when blending—a handy trick to keep in mind for other hummus recipes! Serve this stunning oil-free spinach hummus as a dip with pita squares, crackers, or crudités. It’s also excellent as a fresh, flavorful spread on sandwiches or wraps. For more inspiration, check out these tasty ideas:\n"
     ]
    }
   ],
   "source": [
    "for url in sample_urls[0:10]:\n",
    "    print(url)\n",
    "    soup = make_soup(url)\n",
    "    print(description_helper(soup))"
   ]
  },
  {
   "cell_type": "code",
   "execution_count": 82,
   "id": "01c28b52",
   "metadata": {},
   "outputs": [],
   "source": [
    "soup = make_soup(sample_urls[3])"
   ]
  },
  {
   "cell_type": "code",
   "execution_count": 83,
   "id": "0076092f",
   "metadata": {},
   "outputs": [
    {
     "data": {
      "text/plain": [
       "<div class=\"mb-8\"><ul class=\"font-serif leading-7 text-fok-navy-500\"><li class=\"mb-2.5 text-base lg:text-lg\"><span>12.3-oz. package extra-firm silken-style tofu</span></li><li class=\"mb-2.5 text-base lg:text-lg\"><span>¼ cup lightly packed fresh parsley</span></li><li class=\"mb-2.5 text-base lg:text-lg\"><span>1 clove garlic</span></li><li class=\"mb-2.5 text-base lg:text-lg\"><span>Pinch cayenne pepper</span></li><li class=\"mb-2.5 text-base lg:text-lg\"><span>4 tablespoons lemon juice</span></li><li class=\"mb-2.5 text-base lg:text-lg\"><span>1 clove garlic, minced</span></li><li class=\"mb-2.5 text-base lg:text-lg\"><span>¼ teaspoon freshly ground black pepper</span></li><li class=\"mb-2.5 text-base lg:text-lg\"><span>4 small fresh globe artichokes (8 oz. each)</span></li><li class=\"mb-2.5 text-base lg:text-lg\"><span>2 lemon wedges</span></li></ul></div>"
      ]
     },
     "execution_count": 83,
     "metadata": {},
     "output_type": "execute_result"
    }
   ],
   "source": [
    "soup.find('div', 'mb-8')"
   ]
  },
  {
   "cell_type": "markdown",
   "id": "59e47c1e",
   "metadata": {},
   "source": [
    "Finding and bringing in the Ingredient information"
   ]
  },
  {
   "cell_type": "code",
   "execution_count": 116,
   "id": "1c698bd9",
   "metadata": {},
   "outputs": [
    {
     "name": "stdout",
     "output_type": "stream",
     "text": [
      "https://www.forksoverknives.com/recipes//recipes/vegan-breakfast/vegan-chilaquiles/\n"
     ]
    },
    {
     "ename": "AttributeError",
     "evalue": "'NoneType' object has no attribute 'find_all'",
     "output_type": "error",
     "traceback": [
      "\u001b[1;31m---------------------------------------------------------------------------\u001b[0m",
      "\u001b[1;31mAttributeError\u001b[0m                            Traceback (most recent call last)",
      "\u001b[1;32m<ipython-input-116-16f40400d680>\u001b[0m in \u001b[0;36m<module>\u001b[1;34m\u001b[0m\n\u001b[0;32m      3\u001b[0m     \u001b[0mprint\u001b[0m\u001b[1;33m(\u001b[0m\u001b[0murl\u001b[0m\u001b[1;33m)\u001b[0m\u001b[1;33m\u001b[0m\u001b[1;33m\u001b[0m\u001b[0m\n\u001b[0;32m      4\u001b[0m     \u001b[0msoup\u001b[0m \u001b[1;33m=\u001b[0m \u001b[0mmake_soup\u001b[0m\u001b[1;33m(\u001b[0m\u001b[0murl\u001b[0m\u001b[1;33m)\u001b[0m\u001b[1;33m\u001b[0m\u001b[1;33m\u001b[0m\u001b[0m\n\u001b[1;32m----> 5\u001b[1;33m     \u001b[0mprint\u001b[0m\u001b[1;33m(\u001b[0m\u001b[1;33m[\u001b[0m\u001b[0mli\u001b[0m\u001b[1;33m.\u001b[0m\u001b[0mtext\u001b[0m \u001b[1;32mfor\u001b[0m \u001b[0mli\u001b[0m \u001b[1;32min\u001b[0m \u001b[0msoup\u001b[0m\u001b[1;33m.\u001b[0m\u001b[0mfind\u001b[0m\u001b[1;33m(\u001b[0m\u001b[1;34m'div'\u001b[0m\u001b[1;33m,\u001b[0m \u001b[1;34m'mb-8'\u001b[0m\u001b[1;33m)\u001b[0m\u001b[1;33m.\u001b[0m\u001b[0mfind\u001b[0m\u001b[1;33m(\u001b[0m\u001b[1;34m'ol'\u001b[0m\u001b[1;33m)\u001b[0m\u001b[1;33m.\u001b[0m\u001b[0mfind_all\u001b[0m\u001b[1;33m(\u001b[0m\u001b[1;34m'li'\u001b[0m\u001b[1;33m)\u001b[0m\u001b[1;33m]\u001b[0m\u001b[1;33m)\u001b[0m\u001b[1;33m\u001b[0m\u001b[1;33m\u001b[0m\u001b[0m\n\u001b[0m",
      "\u001b[1;31mAttributeError\u001b[0m: 'NoneType' object has no attribute 'find_all'"
     ]
    }
   ],
   "source": [
    "### Ingredients\n",
    "for url in sample_urls[1:15]:\n",
    "    print(url)\n",
    "    soup = make_soup(url)\n",
    "    print([li.text for li in soup.find('div', 'mb-8').find('ol').find_all('li')])"
   ]
  },
  {
   "cell_type": "code",
   "execution_count": 88,
   "id": "03a0b834",
   "metadata": {},
   "outputs": [
    {
     "data": {
      "text/plain": [
       "<div class=\"mb-8\"><ul class=\"font-serif leading-7 text-fok-navy-500\"><li class=\"mb-2.5 text-base lg:text-lg\"><span>1 cup unsweetened, unflavored plant milk</span></li><li class=\"mb-2.5 text-base lg:text-lg\"><span>15 pitted dates</span></li><li class=\"mb-2.5 text-base lg:text-lg\"><span>2 cups cooked brown rice</span></li><li class=\"mb-2.5 text-base lg:text-lg\"><span>1 teaspoon pure vanilla extract</span></li><li class=\"mb-2.5 text-base lg:text-lg\"><span>2 cups mixed fresh berries</span></li><li class=\"mb-2.5 text-base lg:text-lg\"><span>1 cup Easy Oil-Free Granola or purchased oil-free granola</span></li></ul></div>"
      ]
     },
     "execution_count": 88,
     "metadata": {},
     "output_type": "execute_result"
    }
   ],
   "source": [
    "soup.find('div', 'mb-8')"
   ]
  },
  {
   "cell_type": "markdown",
   "id": "b661ce0d",
   "metadata": {},
   "source": [
    "Finding and bringing in the Instruction information"
   ]
  },
  {
   "cell_type": "code",
   "execution_count": 120,
   "id": "bea41e77",
   "metadata": {},
   "outputs": [
    {
     "name": "stdout",
     "output_type": "stream",
     "text": [
      "https://www.forksoverknives.com/recipes//recipes/vegan-breakfast/vegan-chilaquiles/\n"
     ]
    },
    {
     "ename": "AttributeError",
     "evalue": "'NoneType' object has no attribute 'find_all'",
     "output_type": "error",
     "traceback": [
      "\u001b[1;31m---------------------------------------------------------------------------\u001b[0m",
      "\u001b[1;31mAttributeError\u001b[0m                            Traceback (most recent call last)",
      "\u001b[1;32m<ipython-input-120-3d057092f9a0>\u001b[0m in \u001b[0;36m<module>\u001b[1;34m\u001b[0m\n\u001b[0;32m      3\u001b[0m     \u001b[0mprint\u001b[0m\u001b[1;33m(\u001b[0m\u001b[0murl\u001b[0m\u001b[1;33m)\u001b[0m\u001b[1;33m\u001b[0m\u001b[1;33m\u001b[0m\u001b[0m\n\u001b[0;32m      4\u001b[0m     \u001b[0msoup\u001b[0m \u001b[1;33m=\u001b[0m \u001b[0mmake_soup\u001b[0m\u001b[1;33m(\u001b[0m\u001b[0murl\u001b[0m\u001b[1;33m)\u001b[0m\u001b[1;33m\u001b[0m\u001b[1;33m\u001b[0m\u001b[0m\n\u001b[1;32m----> 5\u001b[1;33m     \u001b[0mprint\u001b[0m\u001b[1;33m(\u001b[0m\u001b[1;33m[\u001b[0m\u001b[0mli\u001b[0m\u001b[1;33m.\u001b[0m\u001b[0mtext\u001b[0m \u001b[1;32mfor\u001b[0m \u001b[0mli\u001b[0m \u001b[1;32min\u001b[0m \u001b[0msoup\u001b[0m\u001b[1;33m.\u001b[0m\u001b[0mfind\u001b[0m\u001b[1;33m(\u001b[0m\u001b[1;34m'ul'\u001b[0m\u001b[1;33m,\u001b[0m \u001b[1;34m'font-serif leading-7 text-fok-navy-500 list-decimal text-lg'\u001b[0m\u001b[1;33m)\u001b[0m\u001b[1;33m.\u001b[0m\u001b[0mfind\u001b[0m\u001b[1;33m(\u001b[0m\u001b[1;34m'ol'\u001b[0m\u001b[1;33m)\u001b[0m\u001b[1;33m.\u001b[0m\u001b[0mfind_all\u001b[0m\u001b[1;33m(\u001b[0m\u001b[1;34m'li'\u001b[0m\u001b[1;33m)\u001b[0m\u001b[1;33m]\u001b[0m\u001b[1;33m)\u001b[0m\u001b[1;33m\u001b[0m\u001b[1;33m\u001b[0m\u001b[0m\n\u001b[0m",
      "\u001b[1;31mAttributeError\u001b[0m: 'NoneType' object has no attribute 'find_all'"
     ]
    }
   ],
   "source": [
    "### Instructions\n",
    "for url in sample_urls[1:5]:\n",
    "    print(url)\n",
    "    soup = make_soup(url)\n",
    "    print([li.text for li in soup.find('ul', 'font-serif leading-7 text-fok-navy-500 list-decimal text-lg').find('ol').find_all('li')])"
   ]
  },
  {
   "cell_type": "markdown",
   "id": "827969b6",
   "metadata": {},
   "source": [
    "Finding and bringing in the Tag information"
   ]
  },
  {
   "cell_type": "code",
   "execution_count": 101,
   "id": "dd5b19a2",
   "metadata": {},
   "outputs": [
    {
     "name": "stdout",
     "output_type": "stream",
     "text": [
      "https://www.forksoverknives.com/recipes//recipes/vegan-breakfast/vegan-chilaquiles/\n",
      "['Mexican']\n",
      "https://www.forksoverknives.com/recipes//recipes/amazing-grains/baked-vegetable-biryani/\n",
      "['casserole,', 'gluten-free,', 'Indian']\n",
      "https://www.forksoverknives.com/recipes//recipes/vegan-salads-sides/instant-pot-artichokes-with-lemony-vegan-aioli/\n",
      "['30 minutes or less,', 'gluten-free']\n",
      "https://www.forksoverknives.com/recipes//recipes/amazing-grains/wild-mushroom-and-asparagus-risotto/\n",
      "['gluten-free,', 'Italian']\n",
      "https://www.forksoverknives.com/recipes//recipes/vegan-snacks-appetizers/air-fried-southwest-spring-rolls/\n",
      "['gluten-free']\n",
      "https://www.forksoverknives.com/recipes//recipes/vegan-desserts/sweet-potato-rosette-tart/\n",
      "['fall,', 'pies and tarts,', 'thanksgiving']\n",
      "https://www.forksoverknives.com/recipes//recipes/vegan-soups-stews/butternut-bisque-with-parsley-pistou/\n",
      "['gluten-free']\n",
      "https://www.forksoverknives.com/recipes//recipes/vegan-snacks-appetizers/pinto-bean-spread/\n",
      "['30 minutes or less,', 'gluten-free']\n",
      "https://www.forksoverknives.com/recipes//recipes/vegan-snacks-appetizers/fresh-spinach-hummus/\n",
      "no\n",
      "https://www.forksoverknives.com/recipes//recipes/vegan-salads-sides/layered-black-rice-salad/\n",
      "['30 minutes or less,', 'potluck,', 'salads']\n",
      "https://www.forksoverknives.com/recipes//recipes/vegan-burgers-wraps/grilled-summer-veggie-wraps/\n",
      "['30 minutes or less,', 'gluten-free,', 'grilled,', 'wraps']\n",
      "https://www.forksoverknives.com/recipes//recipes/vegan-pasta-noodles/fajita-pasta-salad/\n",
      "['Mexican,', 'potluck']\n",
      "https://www.forksoverknives.com/recipes//recipes/vegan-sauces-condiments/mixed-berry-jam-with-chia-seeds/\n",
      "no\n",
      "https://www.forksoverknives.com/recipes//recipes/vegan-breakfast/granola-parfaits-with-berries-and-brown-rice-pudding/\n",
      "['Brunch,', 'cooking with scraps,', 'gluten-free']\n"
     ]
    }
   ],
   "source": [
    "### Tags\n",
    "for url in sample_urls[1:15]:\n",
    "    print(url)\n",
    "    soup = make_soup(url)\n",
    "    try:\n",
    "        print([li.text for li in soup.find('div', 'not-prose my-8 flex flex-col items-baseline text-sm uppercase md:mb-0').find_all('li')])\n",
    "    except:\n",
    "        print('no')"
   ]
  },
  {
   "cell_type": "code",
   "execution_count": 105,
   "id": "a188285b",
   "metadata": {},
   "outputs": [
    {
     "data": {
      "text/plain": [
       "[<li class=\"mr-3 flex w-full items-center text-13px tracking-wide lg:w-auto\"><i class=\"icon-time mr-2 text-21px text-fok-teal-600 lg:text-[27px]\"></i><span><span>Prep-time:<!-- --> <time datetime=\"PT10M\">10 MINUTES</time> <!-- -->/<!-- --> </span><span>Ready In:<!-- --> <time datetime=\"PT30M\">30 MINUTES</time></span></span></li>,\n",
       " <li class=\"mr-3 flex w-full items-center tracking-wide lg:w-auto\"><i class=\"icon-serving mr-2 text-21px text-fok-teal-600 lg:text-[27px]\"></i><span>Makes 4 artichokes</span></li>,\n",
       " <li class=\"mr-3 flex w-full items-center tracking-wide lg:w-auto\"><a class=\"popup-print print-recipe-link flex items-center font-sans text-[13px] uppercase !text-black hover:!text-fok-teal-500\" href=\"#\"><i class=\"icon-print text mr-2 text-21px text-fok-teal-600 lg:text-[27px]\"></i><span>Print/save recipe</span></a></li>]"
      ]
     },
     "execution_count": 105,
     "metadata": {},
     "output_type": "execute_result"
    }
   ],
   "source": [
    "soup = make_soup(sample_urls[3])\n",
    "soup.find('div','box-post-control mb-6').find_all('li')"
   ]
  },
  {
   "cell_type": "code",
   "execution_count": null,
   "id": "818f7564",
   "metadata": {},
   "outputs": [],
   "source": [
    "<div class=\"box-post-control mb-6\"><ul class=\"add-info my-0 flex flex-col gap-2.5 !pl-0 font-sans text-[13px] uppercase text-black lg:flex-row\"><li class=\"mr-3 flex w-full items-center text-13px tracking-wide lg:w-auto\"><i class=\"icon-time mr-2 text-21px text-fok-teal-600 lg:text-[27px]\"></i><span><span>Prep-time:<!-- --> <time datetime=\"PT30M\">30 MINUTES</time> <!-- -->/<!-- --> </span><span>Ready In:<!-- --> <time datetime=\"PT40M\">40 MINUTES</time></span></span></li><li class=\"mr-3 flex w-full items-center tracking-wide lg:w-auto\"><i class=\"icon-serving mr-2 text-21px text-fok-teal-600 lg:text-[27px]\"></i><span>Makes 7½ cups</span></li><li class=\"mr-3 flex w-full items-center tracking-wide lg:w-auto\"><a class=\"popup-print print-recipe-link flex items-center font-sans text-[13px] uppercase !text-black hover:!text-fok-teal-500\" href=\"#\"><i class=\"icon-print text mr-2 text-21px text-fok-teal-600 lg:text-[27px]\"></i><span>Print/save recipe</span></a></li></ul></div>"
   ]
  },
  {
   "cell_type": "markdown",
   "id": "468f9cad",
   "metadata": {},
   "source": [
    "Finding and bringing in the Ready In, Prep Time, Cook Time, Yield information"
   ]
  },
  {
   "cell_type": "code",
   "execution_count": 115,
   "id": "7f706eb0",
   "metadata": {},
   "outputs": [
    {
     "name": "stdout",
     "output_type": "stream",
     "text": [
      "Prep-time: 30 MINUTES / \n",
      "Ready In: 40 MINUTES\n",
      "Makes 7½ cups\n",
      "Prep-time: 30 MINUTES / \n",
      "Ready In: 1 HOUR, 15 MINUTES\n",
      "Makes one 13×9-inch casserole\n",
      "Prep-time: 10 MINUTES / \n",
      "Ready In: 30 MINUTES\n",
      "Makes 4 artichokes\n",
      "Prep-time: 1 HOUR / \n",
      "Ready In: 1 HOUR\n",
      "Makes 8 cups\n",
      "Prep-time: 30 MINUTES / \n",
      "Ready In: 40 MINUTES\n",
      "Makes 12 spring rolls\n",
      "Prep-time: 40 MINUTES / \n",
      "Ready In: 1 HOUR\n",
      "Makes one 10-inch tart\n",
      "Prep-time: 25 MINUTES / \n",
      "Ready In: 35 MINUTES\n",
      "Makes 10 cups\n",
      "Prep-time: 20 MINUTES / \n",
      "Ready In: 40 MINUTES\n",
      "Prep-time: 15 MINUTES / \n",
      "Ready In: 15 MINUTES\n",
      "Prep-time: 20 MINUTES / \n",
      "Ready In: 40 MINUTES\n",
      "Makes 8 cups\n",
      "Prep-time: 20 MINUTES / \n",
      "Ready In: 25 MINUTES\n",
      "Makes 12 wraps\n",
      "Prep-time: 45 MINUTES / \n",
      "Ready In: 2 HOURS, 45 MINUTES\n",
      "Makes 10 cups\n",
      "Prep-time: 15 MINUTES / \n",
      "Ready In: 30 MINUTES\n",
      "Makes 4 cups\n",
      "Prep-time: 30 MINUTES / \n",
      "Ready In: 50 MINUTES\n",
      "Makes 4 parfaits\n"
     ]
    }
   ],
   "source": [
    "for url in sample_urls[1:15]:\n",
    "    soup = make_soup(url)\n",
    "    spans = [span.text for span in soup.find('div','box-post-control mb-6').find_all('span')]\n",
    "    for span in spans[1:]:\n",
    "        if \"Ready In\" in span:\n",
    "            print(span)\n",
    "        elif \"Prep-time\" in span:\n",
    "            print(span)\n",
    "        elif \"Cook Time:\" in span:\n",
    "            print(span)\n",
    "        elif \"Makes\" in span:\n",
    "            print(span)"
   ]
  },
  {
   "cell_type": "code",
   "execution_count": 111,
   "id": "178287b5",
   "metadata": {},
   "outputs": [],
   "source": [
    "test = \"https://www.forksoverknives.com/recipes/vegan-breakfast/vegan-chilaquiles/\""
   ]
  },
  {
   "cell_type": "code",
   "execution_count": 112,
   "id": "bd1144ba",
   "metadata": {},
   "outputs": [],
   "source": [
    "soup = make_soup(test)"
   ]
  },
  {
   "cell_type": "code",
   "execution_count": 113,
   "id": "ee33f1bd",
   "metadata": {},
   "outputs": [
    {
     "ename": "UnicodeEncodeError",
     "evalue": "'charmap' codec can't encode character '\\u2193' in position 56751: character maps to <undefined>",
     "output_type": "error",
     "traceback": [
      "\u001b[1;31m---------------------------------------------------------------------------\u001b[0m",
      "\u001b[1;31mUnicodeEncodeError\u001b[0m                        Traceback (most recent call last)",
      "\u001b[1;32m<ipython-input-113-db8c7395e5db>\u001b[0m in \u001b[0;36m<module>\u001b[1;34m\u001b[0m\n\u001b[0;32m      1\u001b[0m \u001b[1;32mwith\u001b[0m \u001b[0mopen\u001b[0m\u001b[1;33m(\u001b[0m\u001b[1;34m'testhtml.html'\u001b[0m\u001b[1;33m,\u001b[0m \u001b[1;34m'w+'\u001b[0m\u001b[1;33m)\u001b[0m \u001b[1;32mas\u001b[0m \u001b[0mf\u001b[0m\u001b[1;33m:\u001b[0m\u001b[1;33m\u001b[0m\u001b[1;33m\u001b[0m\u001b[0m\n\u001b[1;32m----> 2\u001b[1;33m     \u001b[0mf\u001b[0m\u001b[1;33m.\u001b[0m\u001b[0mwrite\u001b[0m\u001b[1;33m(\u001b[0m\u001b[0msoup\u001b[0m\u001b[1;33m.\u001b[0m\u001b[0mprettify\u001b[0m\u001b[1;33m(\u001b[0m\u001b[1;33m)\u001b[0m\u001b[1;33m)\u001b[0m\u001b[1;33m\u001b[0m\u001b[1;33m\u001b[0m\u001b[0m\n\u001b[0m",
      "\u001b[1;32m~\\anaconda3\\lib\\encodings\\cp1252.py\u001b[0m in \u001b[0;36mencode\u001b[1;34m(self, input, final)\u001b[0m\n\u001b[0;32m     17\u001b[0m \u001b[1;32mclass\u001b[0m \u001b[0mIncrementalEncoder\u001b[0m\u001b[1;33m(\u001b[0m\u001b[0mcodecs\u001b[0m\u001b[1;33m.\u001b[0m\u001b[0mIncrementalEncoder\u001b[0m\u001b[1;33m)\u001b[0m\u001b[1;33m:\u001b[0m\u001b[1;33m\u001b[0m\u001b[1;33m\u001b[0m\u001b[0m\n\u001b[0;32m     18\u001b[0m     \u001b[1;32mdef\u001b[0m \u001b[0mencode\u001b[0m\u001b[1;33m(\u001b[0m\u001b[0mself\u001b[0m\u001b[1;33m,\u001b[0m \u001b[0minput\u001b[0m\u001b[1;33m,\u001b[0m \u001b[0mfinal\u001b[0m\u001b[1;33m=\u001b[0m\u001b[1;32mFalse\u001b[0m\u001b[1;33m)\u001b[0m\u001b[1;33m:\u001b[0m\u001b[1;33m\u001b[0m\u001b[1;33m\u001b[0m\u001b[0m\n\u001b[1;32m---> 19\u001b[1;33m         \u001b[1;32mreturn\u001b[0m \u001b[0mcodecs\u001b[0m\u001b[1;33m.\u001b[0m\u001b[0mcharmap_encode\u001b[0m\u001b[1;33m(\u001b[0m\u001b[0minput\u001b[0m\u001b[1;33m,\u001b[0m\u001b[0mself\u001b[0m\u001b[1;33m.\u001b[0m\u001b[0merrors\u001b[0m\u001b[1;33m,\u001b[0m\u001b[0mencoding_table\u001b[0m\u001b[1;33m)\u001b[0m\u001b[1;33m[\u001b[0m\u001b[1;36m0\u001b[0m\u001b[1;33m]\u001b[0m\u001b[1;33m\u001b[0m\u001b[1;33m\u001b[0m\u001b[0m\n\u001b[0m\u001b[0;32m     20\u001b[0m \u001b[1;33m\u001b[0m\u001b[0m\n\u001b[0;32m     21\u001b[0m \u001b[1;32mclass\u001b[0m \u001b[0mIncrementalDecoder\u001b[0m\u001b[1;33m(\u001b[0m\u001b[0mcodecs\u001b[0m\u001b[1;33m.\u001b[0m\u001b[0mIncrementalDecoder\u001b[0m\u001b[1;33m)\u001b[0m\u001b[1;33m:\u001b[0m\u001b[1;33m\u001b[0m\u001b[1;33m\u001b[0m\u001b[0m\n",
      "\u001b[1;31mUnicodeEncodeError\u001b[0m: 'charmap' codec can't encode character '\\u2193' in position 56751: character maps to <undefined>"
     ]
    }
   ],
   "source": [
    "with open('testhtml.html', 'w+') as f:\n",
    "    f.write(soup.prettify())"
   ]
  }
 ],
 "metadata": {
  "kernelspec": {
   "display_name": "Python 3",
   "language": "python",
   "name": "python3"
  },
  "language_info": {
   "codemirror_mode": {
    "name": "ipython",
    "version": 3
   },
   "file_extension": ".py",
   "mimetype": "text/x-python",
   "name": "python",
   "nbconvert_exporter": "python",
   "pygments_lexer": "ipython3",
   "version": "3.8.8"
  }
 },
 "nbformat": 4,
 "nbformat_minor": 5
}
